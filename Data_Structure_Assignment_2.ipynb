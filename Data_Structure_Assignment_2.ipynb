{
  "nbformat": 4,
  "nbformat_minor": 0,
  "metadata": {
    "colab": {
      "provenance": []
    },
    "kernelspec": {
      "name": "python3",
      "display_name": "Python 3"
    },
    "language_info": {
      "name": "python"
    }
  },
  "cells": [
    {
      "cell_type": "markdown",
      "source": [],
      "metadata": {
        "id": "Du1a62WUcKXd"
      }
    },
    {
      "cell_type": "markdown",
      "source": [
        "**THEORY QUESTIONS**\n",
        "\n",
        "\n",
        "\n"
      ],
      "metadata": {
        "id": "neAOUxbRcRV6"
      }
    },
    {
      "cell_type": "markdown",
      "source": [
        "#1.What are data structures, and why are they important?"
      ],
      "metadata": {
        "id": "hmti3i2s4p9f"
      }
    },
    {
      "cell_type": "code",
      "source": [
        "A data structure is a specialized way of organizing, managing, and storing data so it can be accessed and used efficiently. They are the building blocks of programs and algorithms, enabling developers to handle large amounts of data in a structured and logical way.\n",
        "\n",
        "Data structures can be classified into two main categories:\n",
        "\n",
        "1.Linear Data Structures\n",
        "Elements are arranged sequentially. Examples include:\n",
        "\n",
        "- Arrays\n",
        "- Linked Lists\n",
        "- Stacks\n",
        "- Queues\n",
        "\n",
        "2.Non-Linear Data Structures\n",
        "Elements are arranged hierarchically or graph-like. Examples include:\n",
        "\n",
        "- Trees (e.g., Binary Trees, Binary Search Trees, Heaps)\n",
        "- Graphs (e.g., Directed Graphs, Undirected Graphs)\n",
        "- Hash Tables\n",
        "\n",
        "#Why Are Data Structures Important?\n",
        "Data structures are critical in computer science and programming for several reasons:\n",
        "\n",
        "1. Efficient Data Management\n",
        "- They allow data to be stored and organized in ways that make operations like searching, sorting, inserting, and deleting efficient.\n",
        "- For example, using a hash table allows for constant time lookups, while a binary search tree enables logarithmic time search.\n",
        "\n",
        "2. Optimized Performance\n",
        "- By using the right data structure, algorithms can run faster and use less memory.\n",
        "- Example: Sorting a list of items with 1 million entries would be much slower with a basic array compared to using a heap structure.\n",
        "\n",
        "3. Problem Solving\n",
        "- Data structures provide the foundation for solving real-world problems.\n",
        "- Example:\n",
        "  - A graph can model social networks or transport systems.\n",
        "  - A queue can represent tasks waiting in a printer’s job list.\n",
        "\n",
        "4. Scalability\n",
        "- Efficient data structures allow applications to scale effectively as data size grows.\n",
        "- Example: Databases rely on indexing (a data structure) to efficiently retrieve information from massive datasets.\n",
        "\n",
        "5. Code Organization and Reusability\n",
        "- Data structures enable clean and modular code by separating concerns (e.g., a linked list module can be reused in different programs).\n",
        "\n",
        "#Examples of Use Cases\n",
        "- Arrays: Used for storing a fixed number of elements in sequential memory, such as storing a list of student grades.\n",
        "- Stacks: Used for backtracking problems like undo functionality in text editors.\n",
        "- Queues: Used in scheduling algorithms, such as processes in operating systems.\n",
        "- Trees: Used in hierarchical data representation like file systems or XML/HTML parsing.\n",
        "- Hash Tables: Used in fast data retrieval, such as dictionaries in Python.\n",
        "\n",
        "#Key Takeaway\n",
        "Understanding and choosing the right data structure is vital for writing efficient, scalable, and maintainable code. It’s like selecting the best tool for a specific task—using the right one can save time, resources, and effort."
      ],
      "metadata": {
        "id": "CuGGjB8G5B1I"
      },
      "execution_count": null,
      "outputs": []
    },
    {
      "cell_type": "markdown",
      "source": [
        "#2. Explain the difference between mutable and immutable data types with examples?"
      ],
      "metadata": {
        "id": "s_M94dqC6S5C"
      }
    },
    {
      "cell_type": "code",
      "source": [
        "In programming, mutable and immutable refer to whether an object can be modified after it has been created.\n",
        "\n",
        "1. Mutable Data Types\n",
        "Mutable objects can be changed after their creation. This means that their content or state can be modified in place without creating a new object.\n",
        "\n",
        "#Examples of Mutable Data Types:\n",
        "- Lists\n",
        "- Dictionaries\n",
        "- Sets\n",
        "- Custom objects (in most cases)\n",
        "\n",
        "Example of Mutability:\n",
        "```\n",
        "# Example with a list (mutable)\n",
        "my_list = [1, 2, 3]\n",
        "print(\"Before modification:\", my_list)\n",
        "\n",
        "# Modifying the list\n",
        "my_list[0] = 10  # Change the first element\n",
        "my_list.append(4)  # Add an element to the list\n",
        "\n",
        "print(\"After modification:\", my_list)\n",
        "```\n",
        "Output:\n",
        "```\n",
        "less\n",
        "Copy code\n",
        "Before modification: [1, 2, 3]\n",
        "After modification: [10, 2, 3, 4]\n",
        "```\n",
        "Here, my_list was modified in place without creating a new object.\n",
        "\n",
        "2. Immutable Data Types\n",
        "Immutable objects cannot be changed after their creation. If you try to modify them, a new object is created, and the original remains unchanged.\n",
        "\n",
        "#Examples of Immutable Data Types:\n",
        "- Numbers (int, float, complex)\n",
        "- Strings\n",
        "- Tuples\n",
        "- Frozen sets\n",
        "\n",
        "Example of Immutability:\n",
        "```\n",
        "\n",
        "# Example with a string (immutable)\n",
        "my_string = \"hello\"\n",
        "print(\"Before modification:\", my_string)\n",
        "\n",
        "# Attempt to modify the string\n",
        "new_string = my_string.replace(\"h\", \"j\")  # This creates a new string\n",
        "\n",
        "print(\"After modification:\", my_string)  # Original string remains the same\n",
        "print(\"New string:\", new_string)\n",
        "```\n",
        "Output:\n",
        "```\n",
        "Before modification: hello\n",
        "After modification: hello\n",
        "New string: jello\n",
        "```\n",
        "In this example, my_string remains unchanged because strings are immutable. A new object (new_string) was created instead.\n",
        "\n",
        "#Key Differences Between Mutable and Immutable Data Types:\n",
        "\n",
        "Aspect\t                                             Mutable\t                                                Immutable\n",
        "\n",
        "Can be modified?\t                                     Yes\t                                                        No\n",
        "Memory efficiency\t                           Changes in-place, more efficient\t                     Creates new objects, less efficient\n",
        "Examples\t                                    Lists, dictionaries, sets\t                                 Strings, tuples, numbers\n",
        "Hashability\t                                 Not hashable (e.g., in sets)\t                                   Usually hashable\n",
        "\n",
        "#Why is this distinction important?\n",
        "1.Performance: Immutable objects are faster to access and safer for concurrent programming because they cannot be modified.\n",
        "2.Data Integrity: Mutable objects can lead to unexpected side effects if multiple references to the same object exist. Immutable objects ensure that the data remains unchanged.\n",
        "#Example of Potential Issue with Mutables:\n",
        "```\n",
        "\n",
        "# A mutable list shared between two variables\n",
        "list1 = [1, 2, 3]\n",
        "list2 = list1  # Both list1 and list2 point to the same object\n",
        "\n",
        "list2.append(4)  # Modify list2\n",
        "print(\"list1:\", list1)  # list1 is also modified!\n",
        "```\n",
        "Output:\n",
        "```\n",
        "\n",
        "list1: [1, 2, 3, 4]\n",
        "```\n",
        "By contrast, with immutable objects, such issues don’t arise because modifications create a new object."
      ],
      "metadata": {
        "id": "M5JoY_U37LeV"
      },
      "execution_count": null,
      "outputs": []
    },
    {
      "cell_type": "markdown",
      "source": [
        "#3.What are the main differences between lists and tuples in Python?"
      ],
      "metadata": {
        "id": "p3eOuj4X9LfF"
      }
    },
    {
      "cell_type": "code",
      "source": [
        "#Main Differences Between Lists and Tuples in Python:\n",
        "\n",
        "Aspect\t                                                        List\t                                                            Tuple\n",
        "\n",
        "Mutability\t                                 Mutable: Elements can be modified.\t                                           Immutable: Elements cannot be modified.\n",
        "Syntax\t                                      Created using [ ] (square brackets).\t                                        Created using ( ) (parentheses).\n",
        "Performance\t                                Slower because of dynamic resizing and mutability.\t                         Faster due to immutability and fixed size.\n",
        "Use Cases\t                                 Used for dynamic, frequently changing data.\t                                       Used for fixed, constant data.\n",
        "Hashability\t                             Not hashable (cannot be used as dictionary keys).\t                    Hashable if all elements are immutable (can be used as dictionary keys).\n",
        "Methods\t                                     Provides many methods (e.g., append, remove).\t                             Provides fewer methods (e.g., count, index).\n",
        "Size Flexibility\t                                 Can grow or shrink dynamically.\t                                              Fixed size once created.\n",
        "\n",
        "#Examples:\n",
        "1. Syntax:\n",
        "```\n",
        "# List\n",
        "my_list = [1, 2, 3]\n",
        "print(type(my_list))  # <class 'list'>\n",
        "\n",
        "# Tuple\n",
        "my_tuple = (1, 2, 3)\n",
        "print(type(my_tuple))  # <class 'tuple'>\n",
        "```\n",
        "2. Mutability:\n",
        "```\n",
        "# List is mutable\n",
        "my_list = [1, 2, 3]\n",
        "my_list[0] = 10\n",
        "print(my_list)  # Output: [10, 2, 3]\n",
        "\n",
        "# Tuple is immutable\n",
        "my_tuple = (1, 2, 3)\n",
        "# my_tuple[0] = 10  # TypeError: 'tuple' object does not support item assignment\n",
        "```\n",
        "3. Performance:\n",
        "```\n",
        "import timeit\n",
        "\n",
        "# Creating a list and tuple with the same elements\n",
        "list_test = [1, 2, 3, 4, 5]\n",
        "tuple_test = (1, 2, 3, 4, 5)\n",
        "\n",
        "# Timing access to elements\n",
        "list_time = timeit.timeit(\"list_test[2]\", globals=globals(), number=1000000)\n",
        "tuple_time = timeit.timeit(\"tuple_test[2]\", globals=globals(), number=1000000)\n",
        "\n",
        "print(f\"List access time: {list_time}\")\n",
        "print(f\"Tuple access time: {tuple_time}\")\n",
        "```\n",
        "Output:\n",
        "```\n",
        "List access time: 0.051 seconds\n",
        "Tuple access time: 0.042 seconds\n",
        "```\n",
        "Tuples are faster than lists for element access due to their immutability.\n",
        "\n",
        "4. Hashability:\n",
        "```\n",
        "# List is not hashable\n",
        "my_list = [1, 2, 3]\n",
        "# hash(my_list)  # TypeError: unhashable type: 'list'\n",
        "\n",
        "# Tuple is hashable if its elements are immutable\n",
        "my_tuple = (1, 2, 3)\n",
        "print(hash(my_tuple))  # Outputs a hash value\n",
        "```\n",
        "5. Methods Available:\n",
        "```\n",
        "# List methods\n",
        "my_list = [1, 2, 3]\n",
        "my_list.append(4)\n",
        "print(my_list)  # [1, 2, 3, 4]\n",
        "\n",
        "# Tuple methods (limited)\n",
        "my_tuple = (1, 2, 3)\n",
        "print(my_tuple.count(2))  # 1\n",
        "print(my_tuple.index(3))  # 2\n",
        "```\n",
        "#When to Use Lists vs Tuples:\n",
        "- Use a List when:\n",
        "\n",
        "  - Data is expected to change over time (e.g., appending/removing elements).\n",
        "  - Flexibility is needed.\n",
        "\n",
        "- Use a Tuple when:\n",
        "\n",
        "  - Data is fixed or constant (e.g., configuration settings).\n",
        "  - You want better performance.\n",
        "  - You need the object to be hashable (e.g., as a dictionary key)."
      ],
      "metadata": {
        "id": "dshlmJqb9Qq0"
      },
      "execution_count": null,
      "outputs": []
    },
    {
      "cell_type": "markdown",
      "source": [
        "#4.Describe how dictionaries store data?"
      ],
      "metadata": {
        "id": "vms7qCiY_lm6"
      }
    },
    {
      "cell_type": "code",
      "source": [
        "#How Dictionaries Store Data in Python\n",
        "Dictionaries in Python store data as key-value pairs. They are implemented as hash tables under the hood, enabling fast lookups, insertions, and deletions. Here's an explanation of how this process works:\n",
        "\n",
        "1. Hash Table Structure\n",
        "A dictionary uses a hash table, which is a data structure that maps keys to values by using a computed hash of the key. The hash value determines the index where the key-value pair is stored in the underlying array.\n",
        "\n",
        "- Key: A unique identifier for each value in the dictionary (e.g., name, age).\n",
        "- Value: The data associated with the key (e.g., \"Alice\", 25).\n",
        "- Hash Function: A function that converts a key into a unique hash value (a numeric representation).\n",
        "\n",
        "2. Storing Key-Value Pairs\n",
        "1.Hashing the Key:\n",
        "- The key is passed through a hash function (e.g., Python’s built-in hash() function), which generates an integer value (the hash).\n",
        "2.Finding a Storage Index:\n",
        "- The hash value is used to compute an index in the hash table where the key-value pair will be stored.\n",
        "- This is typically done by using the modulus operator (hash % table_size) to fit the hash into the table’s size.\n",
        "3.Storing the Pair:\n",
        "- The dictionary stores the key and its associated value at the calculated index.\n",
        "\n",
        "3. Collision Handling\n",
        "Since two different keys might produce the same hash value (called a collision), Python handles collisions using a method called open addressing:\n",
        "\n",
        "- If the target index is already occupied, the dictionary searches for the next available slot in the table and stores the pair there.\n",
        "\n",
        "4. Resizing the Hash Table\n",
        "- When the dictionary grows and reaches a certain load factor (usually around 2/3 full), Python dynamically resizes the hash table to maintain efficient operations:\n",
        "\n",
        "- A new, larger hash table is created.\n",
        "- All existing key-value pairs are rehashed and moved to the new table.\n",
        "\n",
        "5. Key Requirements\n",
        "- Keys must be hashable:\n",
        "  - A key must have a stable hash value throughout its lifetime (e.g., strings, numbers, tuples).\n",
        "  - Mutable types like lists or dictionaries cannot be used as keys because their contents can change, altering the hash value.\n",
        "- Keys must be unique:\n",
        "  - Duplicate keys are not allowed. If a duplicate key is added, the old value is replaced by the new value.\n",
        "\n",
        "6. Efficiency\n",
        "Dictionaries provide average time complexity of:\n",
        "\n",
        "- O(1) for lookups, insertions, and deletions (in most cases).\n",
        "- O(n) in the worst case (e.g., when too many collisions occur, though Python optimizes to avoid this).\n",
        "\n",
        "#Example: How a Dictionary Works\n",
        "```\n",
        "# Creating a dictionary\n",
        "my_dict = {'name': 'Alice', 'age': 25, 'city': 'New York'}\n",
        "\n",
        "# Storing process:\n",
        "# Step 1: Hash keys\n",
        "# 'name' -> hash value computed -> index calculated -> stores key-value pair ('name', 'Alice')\n",
        "# 'age' -> hash value computed -> index calculated -> stores key-value pair ('age', 25)\n",
        "# 'city' -> hash value computed -> index calculated -> stores key-value pair ('city', 'New York')\n",
        "\n",
        "# Accessing data\n",
        "print(my_dict['name'])  # Directly retrieves value from hash table index\n",
        "```\n",
        "#Visualization of Dictionary Storage\n",
        "\n",
        "Index                  \t        Key\t                                       Value\n",
        "0\t                             city\t                                     'New York'\n",
        "1\t                             name\t                                       'Alice'\n",
        "2\t                              age\t                                         25\n",
        "3\t                           (empty)\t                                     (empty)\n",
        "\n",
        "#Key Takeaways:\n",
        "1.Hashing enables fast operations by mapping keys to specific indices.\n",
        "2.Collisions are resolved through open addressing.\n",
        "3.Dictionaries dynamically resize as they grow.\n",
        "4.Only hashable and unique keys are allowed."
      ],
      "metadata": {
        "id": "cqgiSrYZ_uuK"
      },
      "execution_count": null,
      "outputs": []
    },
    {
      "cell_type": "markdown",
      "source": [
        "#5. Why might you use a set instead of a list in Python ?"
      ],
      "metadata": {
        "id": "HHe5mOXfDDWm"
      }
    },
    {
      "cell_type": "code",
      "source": [
        "You might use a set instead of a list in Python when you need to store a collection of unique, unordered elements and perform operations like membership checks, unions, intersections, or differences efficiently. Here's a detailed comparison to explain why a set might be preferred over a list in certain situations:\n",
        "\n",
        "#Reasons to Use a Set Instead of a List\n",
        "\n",
        "1. Uniqueness of Elements\n",
        "- Set: Automatically ensures that all elements are unique. Duplicate elements are not allowed.\n",
        "- List: Can contain duplicate elements.\n",
        "\n",
        "Example:\n",
        "```\n",
        "# Using a list\n",
        "my_list = [1, 2, 2, 3, 3, 3]\n",
        "unique_list = list(set(my_list))  # Convert to set to remove duplicates\n",
        "print(unique_list)  # Output: [1, 2, 3]\n",
        "\n",
        "# Using a set\n",
        "my_set = {1, 2, 2, 3, 3, 3}\n",
        "print(my_set)  # Output: {1, 2, 3} (duplicates automatically removed)\n",
        "```\n",
        "2. Faster Membership Testing\n",
        "- Set: Membership testing (e.g., x in my_set) is O(1) on average because sets use hash tables.\n",
        "- List: Membership testing (e.g., x in my_list) is O(n) since it requires scanning through the entire list.\n",
        "\n",
        "Example:\n",
        "```\n",
        "my_list = [1, 2, 3, 4, 5]\n",
        "my_set = {1, 2, 3, 4, 5}\n",
        "\n",
        "print(3 in my_list)  # O(n) operation\n",
        "print(3 in my_set)   # O(1) operation\n",
        "```\n",
        "3. Set Operations\n",
        "Sets are specifically designed for mathematical set operations like:\n",
        "\n",
        "- Union (|): Combine all unique elements from two sets.\n",
        "- Intersection (&): Find common elements between two sets.\n",
        "- Difference (-): Find elements in one set but not in another.\n",
        "- Symmetric Difference (^): Find elements in either set but not both.\n",
        "Lists do not have these operations built-in and require additional logic or libraries to implement.\n",
        "\n",
        "Example:\n",
        "```\n",
        "set_a = {1, 2, 3}\n",
        "set_b = {3, 4, 5}\n",
        "\n",
        "# Set operations\n",
        "print(set_a | set_b)  # Union: {1, 2, 3, 4, 5}\n",
        "print(set_a & set_b)  # Intersection: {3}\n",
        "print(set_a - set_b)  # Difference: {1, 2}\n",
        "print(set_a ^ set_b)  # Symmetric Difference: {1, 2, 4, 5}\n",
        "```\n",
        "4. Performance for Large Data Sets\n",
        "For large collections of elements:\n",
        "\n",
        "- Sets are generally faster for operations like removing duplicates, membership checks, and unions/intersections due to their hash table implementation.\n",
        "- Lists are slower for these operations because they require linear scans.\n",
        "\n",
        "Example:\n",
        "```\n",
        "# Removing duplicates from a large collection\n",
        "large_list = [1, 2, 2, 3, 4, 4, 5]\n",
        "unique_set = set(large_list)  # Fast operation using a set\n",
        "print(unique_set)  # Output: {1, 2, 3, 4, 5}\n",
        "```\n",
        "5. No Order Requirement\n",
        "- Set: Does not maintain the order of elements.\n",
        "- List: Maintains the order in which elements were added.\n",
        "If you don't care about the order of elements, a set is a better choice.\n",
        "\n",
        "Example:\n",
        "```\n",
        "my_set = {3, 1, 2}\n",
        "print(my_set)  # Output: {1, 2, 3} (order is arbitrary)\n",
        "```\n",
        "#When to Use a Set Instead of a List\n",
        "- When you need uniqueness: Use a set to automatically remove duplicates.\n",
        "- When membership testing is important: Use a set for faster x in collection checks.\n",
        "- When performing set operations: Use a set for unions, intersections, differences, etc.\n",
        "- When the order of elements does not matter: Sets are unordered, making them ideal when order isn't a priority.\n",
        "- When working with large data sets: Sets offer better performance for certain operations compared to lists.\n",
        "\n",
        "#When to Use a List Instead\n",
        "While sets are useful, lists are preferred when:\n",
        "\n",
        "- Order matters: Lists preserve the order of elements.\n",
        "- Duplicates are allowed: Lists can store multiple occurrences of the same value.\n",
        "- Indexing or slicing is required: Lists allow accessing elements by index, which sets do not.\n",
        "\n",
        "Example:\n",
        "```\n",
        "my_list = [10, 20, 30]\n",
        "print(my_list[1])  # Output: 20 (access by index is possible with lists)\n",
        "```\n",
        "#Summary\n",
        "\n",
        "Feature\t                                                   Set\t                                                                       List\n",
        "\n",
        "Uniqueness\t                                        Ensures unique elements\t                                                    Allows duplicates\n",
        "Order\t                                                  Unordered\t                                                                   Ordered\n",
        "Membership Testing\t                                     Fast (O(1))\t                                                                Slow (O(n))\n",
        "Set Operations\t                                  Supported (union, intersection, etc.)\t                                          Not supported directly\n",
        "Use Case\t                                            Unique, unordered collections\t                                         Ordered, possibly duplicate collections\n",
        "\n",
        "So, use sets when uniqueness, speed, or mathematical set operations are key. Use lists when order and indexing are important."
      ],
      "metadata": {
        "id": "16Rtxm-FDKCk"
      },
      "execution_count": null,
      "outputs": []
    },
    {
      "cell_type": "markdown",
      "source": [
        "#6. What is a string in Python, and how is it different from a list?"
      ],
      "metadata": {
        "id": "5yLjmNDcGKlJ"
      }
    },
    {
      "cell_type": "code",
      "source": [
        "A string in Python is a sequence of characters enclosed in either single quotes ('), double quotes (\"), or triple quotes (''' or \"\"\") for multi-line strings. Strings are immutable, meaning they cannot be changed after they are created.\n",
        "\n",
        "#Examples of Strings:\n",
        "```\n",
        "# Single-line strings\n",
        "string1 = 'Hello'\n",
        "string2 = \"World\"\n",
        "\n",
        "# Multi-line string\n",
        "string3 = '''This is\n",
        "a multi-line\n",
        "string.'''\n",
        "\n",
        "print(string1)  # Output: Hello\n",
        "print(string3)\n",
        "```\n",
        "#Key Differences Between Strings and Lists\n",
        "\n",
        "Aspect\t                                                    String\t                                                                  List\n",
        "\n",
        "Data Type\t                                      Sequence of characters.\t                                     Sequence of any data type (e.g., integers, floats, strings, etc.).\n",
        "Mutability\t                               Immutable (cannot be modified).\t                                   Mutable (can be modified).\n",
        "Element Type\t                                  Always contains characters.\t                                       Can contain elements of any type.\n",
        "Syntax\t                                       Enclosed in quotes (', \", ''').\t                                  Enclosed in square brackets [ ].\n",
        "Operations\t             Supports string-specific operations like concatenation, slicing, and formatting.\t     Supports general sequence operations (e.g., slicing, appending, removing elements).\n",
        "Use Case\t                                      Represent textual data.\t                                                        Represent collections of items.\n",
        "\n",
        "#Detailed Comparison\n",
        "1. Data Type and Usage\n",
        "- String: Stores text data (e.g., \"Hello\" or \"Python is fun!\").\n",
        "- List: Stores a collection of items, which can include mixed data types (e.g., [1, 2, 'a', 3.5]).\n",
        "\n",
        "Example:\n",
        "```\n",
        "string1 = \"abc\"\n",
        "list1 = ['a', 'b', 'c', 1, 2]\n",
        "\n",
        "print(type(string1))  # Output: <class 'str'>\n",
        "print(type(list1))    # Output: <class 'list'>\n",
        "```\n",
        "2. Mutability\n",
        "- Strings: Immutable. You cannot change a string directly after it is created. Any modification creates a new string.\n",
        "- Lists: Mutable. You can change, add, or remove elements without creating a new list.\n",
        "#Example of String (Immutable):\n",
        "```\n",
        "string1 = \"hello\"\n",
        "# string1[0] = \"H\"  # TypeError: 'str' object does not support item assignment\n",
        "\n",
        "# Instead, create a new string:\n",
        "string2 = \"H\" + string1[1:]\n",
        "print(string2)  # Output: Hello\n",
        "```\n",
        "#Example of List (Mutable):\n",
        "```\n",
        "list1 = [1, 2, 3]\n",
        "list1[0] = 10  # Modify the first element\n",
        "print(list1)  # Output: [10, 2, 3]\n",
        "```\n",
        "3. Operations\n",
        "- String-Specific Operations:\n",
        "  - Concatenation: Combine strings with +.\n",
        "  - Repetition: Repeat strings using *.\n",
        "  - String Methods: Includes .lower(), .upper(), .strip(), .find(), .replace(), etc.\n",
        "\n",
        "Example:\n",
        "```\n",
        "string1 = \"Hello\"\n",
        "string2 = \"World\"\n",
        "\n",
        "# Concatenation\n",
        "print(string1 + \" \" + string2)  # Output: Hello World\n",
        "\n",
        "# Repetition\n",
        "print(string1 * 3)  # Output: HelloHelloHello\n",
        "\n",
        "# Methods\n",
        "print(string1.lower())  # Output: hello\n",
        "\n",
        "- List-Specific Operations:\n",
        "  - Modify elements in place (append, remove, etc.).\n",
        "  - Combine lists with + or extend using .extend().\n",
        "  - Slice, sort, or reverse the list.\n",
        "\n",
        "Example:\n",
        "```\n",
        "list1 = [1, 2, 3]\n",
        "list2 = [4, 5]\n",
        "\n",
        "# Adding elements\n",
        "list1.append(6)\n",
        "print(list1)  # Output: [1, 2, 3, 6]\n",
        "\n",
        "# Combining lists\n",
        "print(list1 + list2)  # Output: [1, 2, 3, 6, 4, 5]\n",
        "\n",
        "# Sorting\n",
        "list1.sort()\n",
        "print(list1)  # Output: [1, 2, 3, 6]\n",
        "```\n",
        "4. Slicing\n",
        "Both strings and lists support slicing to extract sub-sequences.\n",
        "\n",
        "#Example of String Slicing:\n",
        "```\n",
        "string1 = \"Hello, World!\"\n",
        "print(string1[0:5])  # Output: Hello\n",
        "print(string1[::-1])  # Output: !dlroW ,olleH (reversed string)\n",
        "```\n",
        "#Example of List Slicing:\n",
        "```\n",
        "list1 = [1, 2, 3, 4, 5]\n",
        "print(list1[0:3])  # Output: [1, 2, 3]\n",
        "print(list1[::-1])  # Output: [5, 4, 3, 2, 1] (reversed list)\n",
        "```\n",
        "5. Storage and Data\n",
        "- Strings store text data, which can only consist of characters.\n",
        "- Lists can store multiple data types (e.g., integers, floats, strings, or even other lists).\n",
        "#Example:\n",
        "```\n",
        "string1 = \"abc\"\n",
        "list1 = [1, \"abc\", 3.14]\n",
        "\n",
        "print(string1)  # Output: abc\n",
        "print(list1)    # Output: [1, 'abc', 3.14]\n",
        "```\n",
        "#Key Takeaways\n",
        "1.Use a string for textual data (e.g., names, messages).\n",
        "2.Use a list for collections of data where:\n",
        "- You need to modify elements.\n",
        "- The elements might be of different types.\n",
        "- You need flexibility in adding or removing elements."
      ],
      "metadata": {
        "id": "xKK0bo2-GRxm"
      },
      "execution_count": null,
      "outputs": []
    },
    {
      "cell_type": "markdown",
      "source": [
        "#7.How do tuples ensure data integrity in Python?"
      ],
      "metadata": {
        "id": "wFkq2GqWIyrd"
      }
    },
    {
      "cell_type": "code",
      "source": [
        "#How Tuples Ensure Data Integrity in Python\n",
        "Tuples in Python are immutable data structures, meaning that once a tuple is created, its elements cannot be changed, added, or removed. This immutability ensures data integrity by preventing accidental or intentional modifications to the contents of a tuple after it has been created.\n",
        "\n",
        "Here’s how the immutability of tuples helps ensure data integrity:\n",
        "\n",
        "1. Protection Against Accidental Modifications\n",
        "Since tuples are immutable, you cannot modify the values of their elements directly. This makes tuples a safe choice when you want to protect the integrity of the data from being changed by mistake.\n",
        "\n",
        "#Example of Data Integrity in Tuples:\n",
        "```\n",
        "my_tuple = (1, 2, 3)\n",
        "```\n",
        "# Attempting to modify an element results in an error\n",
        "# my_tuple[0] = 10  # TypeError: 'tuple' object does not support item assignment\n",
        "This prevents unwanted modifications to the data, ensuring that the tuple's contents stay consistent throughout the program.\n",
        "\n",
        "2. Safe for Use as Dictionary Keys\n",
        "Tuples are hashable (as long as all their elements are hashable), meaning they can be used as keys in dictionaries or elements in sets. This is because the contents of a tuple remain constant and do not change over time. In contrast, lists are mutable and cannot be used as dictionary keys.\n",
        "\n",
        "#Example of Using Tuples as Dictionary Keys:\n",
        "```\n",
        "# Tuple as a dictionary key\n",
        "my_dict = {('a', 1): 'value1', ('b', 2): 'value2'}\n",
        "\n",
        "print(my_dict[('a', 1)])  # Output: value1\n",
        "```\n",
        "If tuples were mutable, their hash values could change, leading to inconsistent behavior when used as dictionary keys or set elements.\n",
        "\n",
        "3. Ensuring Data Consistency in Data Structures\n",
        "Because of their immutability, tuples can be used to store data that should not be modified, ensuring that the data remains consistent throughout the program. This is useful when working with configurations, fixed data collections, or when passing data between functions, as you can be confident that the tuple’s content won’t change.\n",
        "\n",
        "Example:\n",
        "```\n",
        "# Immutable tuple for fixed configuration\n",
        "config = ('localhost', 8080)\n",
        "\n",
        "def connect_to_server(config):\n",
        "    host, port = config\n",
        "    print(f\"Connecting to {host} on port {port}\")\n",
        "\n",
        "# The tuple 'config' cannot be changed, ensuring the function always receives the correct values.\n",
        "```\n",
        "4. Tuple as a Return Type to Ensure Integrity\n",
        "When a function returns a tuple, it ensures that the returned data cannot be altered by the caller. This guarantees that the data remains consistent and unmodified.\n",
        "\n",
        "Example:\n",
        "```\n",
        "def get_coordinates():\n",
        "    return (40.7128, 74.0060)  # Coordinates of New York City (immutable)\n",
        "\n",
        "coordinates = get_coordinates()\n",
        "# coordinates[0] = 41.0000  # TypeError: 'tuple' object does not support item assignment\n",
        "```\n",
        "5. Preventing Side Effects in Shared Data\n",
        "Since tuples are immutable, they prevent side effects when passed around in a program. If a tuple is shared between different parts of the program, its contents cannot be altered, ensuring that different parts of the code do not accidentally modify shared data.\n",
        "\n",
        "Example:\n",
        "```\n",
        "# Function that accepts a tuple as input\n",
        "def process_data(data):\n",
        "    print(data)\n",
        "\n",
        "my_data = (10, 20, 30)\n",
        "process_data(my_data)\n",
        "\n",
        "# my_data remains unmodified\n",
        "print(my_data)  # Output: (10, 20, 30)\n",
        "```\n",
        "This contrasts with lists, where changes to the list would be reflected in all parts of the program that hold a reference to that list.\n",
        "\n",
        "6. Guarantees Integrity of Data During Iteration\n",
        "When iterating over a tuple, you are guaranteed that the elements will not change, unlike when iterating over a list where the elements can be modified during iteration.\n",
        "\n",
        "#Example of Data Integrity During Iteration:\n",
        "```\n",
        "my_tuple = (1, 2, 3)\n",
        "\n",
        "for item in my_tuple:\n",
        "    print(item)\n",
        "    # item cannot be modified within the loop, ensuring that data remains unchanged.\n",
        "```\n",
        "#Summary of Data Integrity with Tuples\n",
        "- Immutability: Tuples cannot be modified after creation, which prevents accidental or intentional changes to the data.\n",
        "- Hashable: Tuples can be used as dictionary keys and set elements because their content is unchangeable.\n",
        "- Consistent Data: Tuples ensure data integrity when passed between functions or shared across different parts of a program.\n",
        "- Safe Iteration: You can iterate over tuples without worrying about their contents being modified during iteration.\n",
        "\n",
        "Overall, tuples are ideal for scenarios where data integrity, safety, and consistency are critical. Their immutability makes them a reliable choice for storing fixed or constant data in Python.\n"
      ],
      "metadata": {
        "id": "GfWo7Gv2I7NC"
      },
      "execution_count": null,
      "outputs": []
    },
    {
      "cell_type": "markdown",
      "source": [
        "#8.What is a hash table, and how does it relate to dictionaries in Python?"
      ],
      "metadata": {
        "id": "-4N3K15yKWvb"
      }
    },
    {
      "cell_type": "code",
      "source": [
        "#What is a Hash Table?\n",
        "A hash table (or hash map) is a data structure that provides an efficient way to store and retrieve key-value pairs. It uses a hash function to map keys to specific indices in an underlying array, where the associated values are stored. This allows for constant time complexity (O(1)) for most operations like insertion, deletion, and searching.\n",
        "\n",
        "#How a Hash Table Works\n",
        "1.Hashing: The key is passed through a hash function, which computes a hash value (an integer). This value is then used to determine the index in the hash table where the corresponding value will be stored.\n",
        "2.Storing Values: The key-value pair is placed in the array at the computed index.\n",
        "3.Collision Handling: If two keys produce the same hash value (i.e., a collision), the hash table uses a collision resolution technique (like chaining or open addressing) to handle it.\n",
        "\n",
        "#How Hash Tables Relate to Dictionaries in Python\n",
        "In Python, dictionaries are implemented using hash tables under the hood. Each dictionary key is hashed to determine where to store the associated value. This makes dictionary operations (such as lookups, insertions, and deletions) very fast, usually operating in O(1) time for most cases.\n",
        "\n",
        "Here’s how dictionaries use hash tables internally:\n",
        "\n",
        "1. Keys Are Hashed\n",
        "When you use a key to access or store a value in a Python dictionary, the key is passed through a hash function to compute a hash value. This hash value determines the index in the hash table where the corresponding value will be stored or retrieved.\n",
        "\n",
        "Example:\n",
        "```\n",
        "\n",
        "my_dict = {\"apple\": 3, \"banana\": 5}\n",
        "# 'apple' is hashed to an index, and the value 3 is stored at that index\n",
        "# 'banana' is hashed to a different index, and the value 5 is stored at that index\n",
        "```\n",
        "2. Efficient Lookups\n",
        "When you access a value using a key (e.g., my_dict['apple']), Python calculates the hash of the key and uses that to quickly locate the value associated with the key. This makes dictionary lookups very fast.\n",
        "\n",
        "Example of Lookup:\n",
        "```\n",
        "my_dict = {\"apple\": 3, \"banana\": 5}\n",
        "print(my_dict[\"apple\"])  # Output: 3\n",
        "# The key 'apple' is hashed, and the value 3 is retrieved in constant time\n",
        "```\n",
        "3. Collision Handling\n",
        "If two keys result in the same hash value (i.e., a collision), Python handles this by using a technique such as open addressing or chaining. Python's dictionary uses open addressing, where if a collision occurs, the dictionary checks the next available slot in the hash table.\n",
        "\n",
        "4. Dynamic Resizing\n",
        "When the dictionary grows and the load factor (the ratio of stored items to the total table size) becomes high, the hash table will resize itself by creating a larger array and rehashing the existing keys to new indices. This helps maintain the efficiency of the dictionary as it grows.\n",
        "\n",
        "5. Mutability of Values\n",
        "Although the keys must be immutable (e.g., strings, integers, tuples), the values in a dictionary can be of any type, including mutable types like lists or other dictionaries.\n",
        "\n",
        "#Example of Dictionary Using a Hash Table\n",
        "```\n",
        "\n",
        "# Creating a dictionary\n",
        "my_dict = {\n",
        "    \"name\": \"Alice\",\n",
        "    \"age\": 30,\n",
        "    \"city\": \"New York\"\n",
        "}\n",
        "\n",
        "# Accessing a value (hashing occurs behind the scenes)\n",
        "print(my_dict[\"name\"])  # Output: Alice\n",
        "\n",
        "# Adding a new key-value pair\n",
        "my_dict[\"email\"] = \"alice@example.com\"\n",
        "```\n",
        "Here, each key (e.g., \"name\", \"age\", \"city\") is hashed, and its corresponding value is stored at the index determined by the hash value.\n",
        "\n",
        "#Advantages of Hash Tables in Python Dictionaries\n",
        "1.Efficient Lookups: The primary advantage of using a hash table is the constant-time lookup for keys (O(1)), making dictionaries very efficient for retrieving values based on their keys.\n",
        "2.Insertion and Deletion: Insertion and deletion of key-value pairs also occur in constant time, on average.\n",
        "3.Flexibility: Python dictionaries support any immutable data type as keys, and can store values of any data type, making them highly flexible.\n",
        "\n",
        "#Key Differences Between a List and a Dictionary in Terms of Hash Tables\n",
        "\n",
        "Feature\t                                                               List\t                                                                      Dictionary\n",
        "\n",
        "Data Structure\t                                       List (ordered, index-based)\t                                                       Hash Table (unordered, key-based)\n",
        "Storage Method\t                                    Stores elements at consecutive indices\t                                              Stores key-value pairs with hashed keys\n",
        "Access Time\t                                           O(1) for index-based access\t                                                        O(1) for key-based access\n",
        "Mutability of Keys\t                                    N/A (lists are accessed by index)                                                \tKeys must be immutable (e.g., strings, numbers, tuples)\n",
        "Duplicates\t                                            Allows duplicates\t                                                                     Does not allow duplicate keys\n",
        "\n",
        "#Summary:\n",
        "- A hash table is a data structure used to store key-value pairs, where a hash function computes a hash value for keys to quickly locate values in the table.\n",
        "- Python dictionaries are built using hash tables, allowing for efficient lookups, insertions, and deletions.\n",
        "- Keys in dictionaries are hashed to ensure quick access, while values can be of any data type.\n",
        "- Collision handling and dynamic resizing ensure that the dictionary maintains performance as it grows.\n",
        "The use of hash tables makes Python dictionaries one of the most efficient and widely-used data structures in Python for storing and managing key-value pairs."
      ],
      "metadata": {
        "id": "xmo92ZElK-37"
      },
      "execution_count": null,
      "outputs": []
    },
    {
      "cell_type": "markdown",
      "source": [
        "9.  Can lists contain different data types in Python?"
      ],
      "metadata": {
        "id": "hzcug-23NGtU"
      }
    },
    {
      "cell_type": "code",
      "source": [
        "Yes, lists in Python can contain different data types. A list in Python is a heterogeneous collection, meaning it can store elements of various types, including integers, floats, strings, booleans, and even other lists or custom objects.\n",
        "\n",
        "#Examples of Lists with Different Data Types:\n",
        "\n",
        " - List with Different Primitive Data Types:\n",
        "\n",
        "```\n",
        "my_list = [1, \"apple\", 3.14, True]\n",
        "print(my_list)\n",
        "```\n",
        "# Output: [1, 'apple', 3.14, True]\n",
        "\n",
        "List Containing Another List: Lists can also contain other lists (nested lists), which means you can have a collection of lists within a list.\n",
        "\n",
        "```\n",
        "my_list = [1, [\"a\", \"b\", \"c\"], 3.14, [\"x\", \"y\"]]\n",
        "print(my_list)\n",
        "```\n",
        "# Output: [1, ['a', 'b', 'c'], 3.14, ['x', 'y']]\n",
        "\n",
        "- List with Mixed Data Types: You can store any mix of data types in a single list.\n",
        "\n",
        "```\n",
        "my_list = [42, \"hello\", 3.14, False, [1, 2], {'key': 'value'}]\n",
        "print(my_list)\n",
        "```\n",
        "# Output: [42, 'hello', 3.14, False, [1, 2], {'key': 'value'}]\n",
        "\n",
        "#Advantages of Using Lists with Mixed Data Types:\n",
        "\n",
        " - Flexibility: Lists allow you to store a variety of data types in a single collection, which can be useful in cases where data varies in type.\n",
        " - Convenience: For tasks that involve mixed types of data (e.g., a record or a configuration), using a list makes it easy to group related elements together.\n",
        "\n",
        "#Summary:\n",
        "\n",
        "Python lists are versatile and can store elements of different data types, including integers, strings, floats, booleans, other lists, dictionaries, and even custom objects. This flexibility makes lists one of the most commonly used data structures in Python.\n"
      ],
      "metadata": {
        "id": "VDqTBNMZOAiT"
      },
      "execution_count": null,
      "outputs": []
    },
    {
      "cell_type": "markdown",
      "source": [
        " 10. Explain why strings are immutable in Python?"
      ],
      "metadata": {
        "id": "f1nTNuOUPOJn"
      }
    },
    {
      "cell_type": "code",
      "source": [
        "#Why Are Strings Immutable in Python?\n",
        "\n",
        "In Python, strings are immutable because of several design decisions that improve performance, security, and usability. Immutability means that once a string is created, its content cannot be changed or modified. Any operation that seems to modify a string will actually create a new string with the desired modifications.\n",
        "\n",
        "- Here are the main reasons for string immutability in Python:\n",
        "\n",
        "1.# Performance Optimization\n",
        "\n",
        "Strings in Python are interned (i.e., Python may reuse the same string object if the value is already in memory), which saves memory and improves performance. This behavior is only possible if strings are immutable, because if strings could be modified, Python would need to check and update all references to that string whenever its contents change.\n",
        "\n",
        "#Example:\n",
        "\n",
        "```\n",
        "# String interning ensures that identical strings are stored only once\n",
        "a = \"hello\"\n",
        "b = \"hello\"\n",
        "print(a is b)\n",
        "```\n",
        "# Output: True\n",
        "\n",
        "If strings were mutable, Python couldn't safely optimize memory by reusing the same object for identical strings.\n",
        "\n",
        "2.# Safety and Data Integrity\n",
        "\n",
        "Immutability helps to ensure data integrity. When strings are immutable, their content cannot be changed accidentally or maliciously. This is particularly important in multi-threaded environments or when sharing strings between functions or objects.\n",
        "\n",
        "For example, if a string is passed around in the program, the receiving function or class cannot modify it, ensuring that the original string remains intact.\n",
        "\n",
        "#Example:\n",
        "\n",
        "```\n",
        "def modify_string(s):\n",
        "    s += \" world\"\n",
        "    return s\n",
        "\n",
        "original_string = \"hello\"\n",
        "modified_string = modify_string(original_string)\n",
        "\n",
        "print(original_string)  # Output: hello\n",
        "print(modified_string)  # Output: hello world\n",
        "```\n",
        "In this example, the original string remains unchanged, and a new string is created with the modification. This behavior ensures the integrity of the original string.\n",
        "\n",
        "3.# Hashability for Use as Dictionary Keys\n",
        "\n",
        "Strings in Python are often used as keys in dictionaries or as elements in sets. In order for a string to be hashable (i.e., usable as a dictionary key or set element), its content must not change, because changing the content would alter its hash value and break the integrity of the data structure.\n",
        "\n",
        "Since immutable objects cannot change their state, strings are hashable and can be safely used as dictionary keys.\n",
        "\n",
        "#Example:\n",
        "\n",
        "```\n",
        "my_dict = {\"name\": \"Alice\"}\n",
        "# The key 'name' is immutable, so the dictionary remains consistent.\n",
        "print(my_dict[\"name\"])\n",
        "```\n",
        "# Output: Alice\n",
        "\n",
        "4.# Efficiency in Memory Management\n",
        "\n",
        "Because strings are immutable, Python can optimize their memory management. When a string is created, Python knows that its content will not change, so it can share the same memory location for identical string values. This reduces memory usage and speeds up string comparison operations.\n",
        "\n",
        "#Example of memory optimization:\n",
        "\n",
        "```\n",
        "a = \"hello\"\n",
        "b = \"hello\"\n",
        "# Since strings are immutable and interning occurs, 'a' and 'b' point to the same memory location\n",
        "print(a is b)\n",
        "```\n",
        "# Output: True\n",
        "\n",
        "5.# Simplicity of String Operations\n",
        "\n",
        "Immutability simplifies the design of Python's string operations. When strings are immutable, there is no need to worry about side effects when passing strings between functions. This makes string operations more predictable and easier to reason about.\n",
        "\n",
        "For example, when you concatenate two strings, a new string is created, and the original strings are left unchanged.\n",
        "\n",
        "#Example:\n",
        "\n",
        "```\n",
        "s1 = \"hello\"\n",
        "s2 = \"world\"\n",
        "s3 = s1 + \" \" + s2  # A new string is created, s1 and s2 remain unchanged\n",
        "print(s1)  # Output: hello\n",
        "print(s3)  # Output: hello world\n",
        "```\n",
        "6.# Functional Programming Paradigm\n",
        "\n",
        "Immutability is a key concept in functional programming. Strings in Python being immutable allows them to fit well into functional programming paradigms, where functions avoid changing states or modifying data. This results in code that is easier to debug, test, and reason about.\n",
        "\n",
        "#Summary of Why Strings Are Immutable in Python\n",
        "\n",
        " - Performance: Enables string interning and memory optimization.\n",
        " - Safety: Ensures data integrity, especially in multi-threaded environments.\n",
        " - Hashability: Allows strings to be used as dictionary keys and set elements.\n",
        " - Efficiency: Simplifies memory management and string comparison.\n",
        " - Predictability: Makes string operations more predictable and easier to reason about.\n",
        " - Functional Programming: Aligns with functional programming principles, where data is not mutated.\n",
        "\n",
        "String immutability is a design choice in Python that provides various advantages, including better memory usage, faster performance, and simpler code, all while preserving the integrity of data.\n"
      ],
      "metadata": {
        "id": "rEGwOxQHPqXA"
      },
      "execution_count": null,
      "outputs": []
    },
    {
      "cell_type": "markdown",
      "source": [
        "11. What advantages do dictionaries offer over lists for certain tasks?"
      ],
      "metadata": {
        "id": "nzC5EBLSRiFw"
      }
    },
    {
      "cell_type": "code",
      "source": [
        "Dictionaries in Python offer several advantages over lists for certain tasks, particularly when you need to store and retrieve data based on keys rather than indices. Here are some of the key advantages that dictionaries have over lists:\n",
        "\n",
        "1. Fast Lookups by Key\n",
        "Dictionaries allow for constant-time (O(1)) lookups for key-based access, meaning that retrieving a value using a key is very fast, regardless of the size of the dictionary. In contrast, lists require linear-time (O(n)) lookups when searching for an element by value, as they need to traverse the entire list.\n",
        "\n",
        "Example (Dictionaries are faster for key-based lookups):\n",
        "```\n",
        "my_dict = {\"apple\": 3, \"banana\": 5, \"cherry\": 7}\n",
        "print(my_dict[\"banana\"])  # O(1) time complexity\n",
        "```\n",
        "Example (Lists are slower for value-based lookups):\n",
        "```\n",
        "my_list = [3, 5, 7]\n",
        "print(my_list.index(5))  # O(n) time complexity\n",
        "```\n",
        "2. Storing Key-Value Pairs\n",
        "Dictionaries are specifically designed to store key-value pairs, whereas lists store items in an ordered sequence. This makes dictionaries much more suitable when you need to associate a specific key with a value (e.g., mapping usernames to user details, product IDs to prices, etc.).\n",
        "\n",
        "Example:\n",
        "```\n",
        "# Dictionary: Mapping employee ID to employee details\n",
        "employees = {101: \"Alice\", 102: \"Bob\", 103: \"Charlie\"}\n",
        "```\n",
        "In contrast, a list would not directly support this kind of mapping efficiently, as you would need to use indices, which are not as intuitive or meaningful as keys.\n",
        "\n",
        "3. Uniqueness of Keys\n",
        "In dictionaries, each key must be unique, which naturally prevents duplication and ensures that each key has a single, associated value. In lists, however, the same value can appear multiple times, which could lead to redundancy or confusion.\n",
        "\n",
        "Example (Dictionaries enforce unique keys):\n",
        "```\n",
        "my_dict = {\"a\": 1, \"b\": 2, \"a\": 3}  # Overwrites the value of 'a'\n",
        "print(my_dict)  # Output: {'a': 3, 'b': 2}\n",
        "```\n",
        "Example (Lists allow duplicates):\n",
        "```\n",
        "my_list = [1, 2, 3, 1]\n",
        "print(my_list)  # Output: [1, 2, 3, 1]\n",
        "```\n",
        "4. Better for Complex Data Structures\n",
        "Dictionaries are great for representing more complex data structures. You can easily nest dictionaries or combine them with other data types, making it much more versatile for representing structured data like JSON, configurations, or nested mappings.\n",
        "\n",
        "Example (Nesting Dictionaries):\n",
        "```\n",
        "# Dictionary of dictionaries (nested data structure)\n",
        "students = {\n",
        "    101: {\"name\": \"Alice\", \"age\": 21},\n",
        "    102: {\"name\": \"Bob\", \"age\": 22}\n",
        "}\n",
        "```\n",
        "In a list, you would need to manually manage multiple levels of data, which is less intuitive and harder to maintain.\n",
        "\n",
        "5. Efficient Deletion of Key-Value Pairs\n",
        "Dictionaries allow you to easily remove key-value pairs using the del statement or the pop() method, with constant time complexity (O(1)) for key-based deletion. In lists, deletion by index requires shifting elements to fill the gap, which results in linear time complexity (O(n)).\n",
        "\n",
        "Example (Efficient Deletion in Dictionaries):\n",
        "```\n",
        "my_dict = {\"a\": 1, \"b\": 2, \"c\": 3}\n",
        "del my_dict[\"b\"]  # O(1) time complexity\n",
        "print(my_dict)  # Output: {'a': 1, 'c': 3}\n",
        "```\n",
        "Example (Slower Deletion in Lists):\n",
        "```\n",
        "my_list = [1, 2, 3]\n",
        "my_list.pop(1)  # O(n) time complexity for deletion\n",
        "print(my_list)  # Output: [1, 3]\n",
        "```\n",
        "6. Easier to Associate Values with Meaningful Keys\n",
        "Dictionaries allow you to associate values with meaningful keys (e.g., names, IDs, product codes) rather than relying on arbitrary integer indices. This improves code readability and makes the data structure more intuitive and easier to work with.\n",
        "\n",
        "Example (Using Meaningful Keys):\n",
        "```\n",
        "my_dict = {\"apple\": 3, \"banana\": 5}\n",
        "print(my_dict[\"banana\"])  # Output: 5\n",
        "```\n",
        "In contrast, lists use indices, which don’t convey any intrinsic meaning about the data stored at those positions.\n",
        "\n",
        "Example (List with Indices):\n",
        "```\n",
        "my_list = [3, 5]\n",
        "print(my_list[1])  # Output: 5 (but doesn't clearly indicate that it's a 'banana')\n",
        "```\n",
        "7. Efficient for Set-Like Operations (Uniqueness and Membership Tests)\n",
        "Dictionaries are often more efficient for membership tests or checking for the existence of a key. With dictionaries, checking if a key exists is done in constant time (O(1)). While lists also support membership tests, they have linear time complexity (O(n)).\n",
        "\n",
        "Example (Efficient Key Lookup in Dictionaries):\n",
        "```\n",
        "my_dict = {\"apple\": 3, \"banana\": 5}\n",
        "print(\"apple\" in my_dict)  # Output: True (O(1) time complexity)\n",
        "```\n",
        "Example (Slower Membership Test in Lists):\n",
        "```\n",
        "my_list = [\"apple\", \"banana\"]\n",
        "print(\"apple\" in my_list)  # Output: True (O(n) time complexity)\n",
        "```\n",
        "#Summary of Advantages:\n",
        "\n",
        "Feature                                        \tDictionaries\t                                               Lists\n",
        "\n",
        "Data Structure                               Type\tKey-value pairs\t                                  Ordered sequence of elements\n",
        "Loo kup                                                Time                                      Complexity\tO(1) for key-based access\tO(n) for value-based search\n",
        "Duplicates\t                                   No duplicate keys\t                                   Allows duplicate elements\n",
        "\n",
        "Data Representation\tMaps and more complex data structures\tSimple collections or sequences\n",
        "\n",
        "Deletion Efficiency\tO(1) time complexity for key-based deletion\tO(n) time complexity for deletion\n",
        "\n",
        "Use Case\tMapping data, associative arrays, configurations\tStoring lists of items or elements\n",
        "\n",
        "Memory and Performance\tOptimized for fast key-based access\tOptimized for ordered data\n",
        "\n",
        "#When to Use Dictionaries over Lists:\n",
        "\n",
        "- When you need to associate unique keys with values.\n",
        "- When you require fast lookups for values based on keys.\n",
        "- When data needs to be easily updated, added, or deleted based on a key.\n",
        "- When the order of elements does not matter and key uniqueness is important.\n",
        "\n",
        "#When to Use Lists over Dictionaries:\n",
        "\n",
        "- When order matters and you need to store a sequence of items.\n",
        "- When you need to store data in a specific order (like a list of names, numbers, or objects).\n"
      ],
      "metadata": {
        "id": "OV0GlYkXR5rK"
      },
      "execution_count": null,
      "outputs": []
    },
    {
      "cell_type": "markdown",
      "source": [
        "12. Describe a scenario where using a tuple would be preferable over a list."
      ],
      "metadata": {
        "id": "uUBYv_i3Z31-"
      }
    },
    {
      "cell_type": "code",
      "source": [
        " - Scenario: Storing Coordinates or Fixed Data\n",
        "\n",
        "Imagine you are working with a system that involves geographical coordinates (latitude and longitude) for locations, and you need to represent the coordinates as a pair. In this case, using a tuple would be preferable over a list.\n",
        "\n",
        "#Why Use a Tuple?\n",
        "- Immutability: Coordinates (latitude and longitude) should not be modified once they are set because they represent a fixed point in space. Tuples are immutable, meaning once they are created, their values cannot be changed, ensuring that the coordinates remain consistent and prevent accidental modifications.\n",
        "\n",
        "- Data Integrity: Using a tuple ensures the integrity of the data. If you used a list, there is a risk of accidentally changing one of the values, which could lead to incorrect information or errors in calculations.\n",
        "\n",
        "- Performance: Tuples are more memory-efficient and faster than lists for fixed collections of data. Since the tuple is immutable, Python can optimize its storage and access, making it slightly faster and more efficient than using a list.\n",
        "\n",
        "#Example:\n",
        "Suppose you're building a map system and need to store the coordinates of various landmarks or cities.\n",
        "\n",
        "#Using a Tuple:\n",
        "\n",
        "```\n",
        "# Storing coordinates as a tuple\n",
        "city_coordinates = (40.7128, -74.0060)  # Latitude and Longitude of New York City\n",
        "print(city_coordinates)\n",
        "```\n",
        "# Output: (40.7128, -74.0060)\n",
        "\n",
        "# Coordinates can't be modified\n",
        "# city_coordinates[0] = 41.0  # This will raise a TypeError\n",
        "Here, city_coordinates is a tuple, meaning once it is set, its values cannot be altered. This guarantees that the latitude and longitude values remain the same.\n",
        "\n",
        "#Using a List (Not Ideal for Coordinates):\n",
        "\n",
        "```\n",
        "# Storing coordinates as a list (mutable)\n",
        "city_coordinates = [40.7128, -74.0060]  # Latitude and Longitude of New York City\n",
        "print(city_coordinates)\n",
        "```\n",
        "# Output: [40.7128, -74.0060]\n",
        "\n",
        "# Coordinates can be modified (not desirable in this case)\n",
        "city_coordinates[0] = 41.0  # This changes the latitude (which could cause problems)\n",
        "print(city_coordinates)  # Output: [41.0, -74.0060]\n",
        "In the second example, using a list would allow accidental modifications to the coordinates, which could introduce bugs or incorrect data into the system.\n",
        "\n",
        "#Summary:\n",
        "\n",
        "- Use a tuple when:\n",
        "\n",
        " - The data should remain constant and not be modified.\n",
        " - You need to represent a fixed collection of items, like coordinates, RGB values, or other fixed data.\n",
        " - You want to ensure better performance and memory efficiency for small, immutable collections.\n",
        "\n",
        "In contrast, use a list when:\n",
        "\n",
        " - The data is expected to change or be modified over time.\n",
        " - You need to perform operations like adding, removing, or updating elements dynamically.\n"
      ],
      "metadata": {
        "id": "_lAIFdbzaFF0"
      },
      "execution_count": null,
      "outputs": []
    },
    {
      "cell_type": "markdown",
      "source": [
        " 13. How do sets handle duplicate values in Python?"
      ],
      "metadata": {
        "id": "T_ox7vksbJ9X"
      }
    },
    {
      "cell_type": "code",
      "source": [
        "In Python, sets automatically eliminate duplicate values. A set is an unordered collection of unique elements, which means that it does not allow duplicate items. When you try to add a duplicate element to a set, it will simply ignore the duplicate and keep only the first occurrence of the value.\n",
        "\n",
        "- How Sets Handle Duplicates:\n",
        "\n",
        " - If you attempt to add an element to a set that is already present, the set will not change.\n",
        " - This ensures that sets only contain unique elements at all times.\n",
        "#Example:\n",
        "```\n",
        "# Creating a set with duplicates\n",
        "my_set = {1, 2, 3, 3, 4, 5, 5}\n",
        "\n",
        "print(my_set)  # Output: {1, 2, 3, 4, 5}\n",
        "```\n",
        "In the above example, even though the values 3 and 5 appear twice in the original set, the set only keeps one occurrence of each.\n",
        "\n",
        "Adding Duplicates to an Existing Set:\n",
        "```\n",
        "# Adding duplicate value to the set\n",
        "my_set.add(3)  # 3 is already in the set, so nothing happens\n",
        "my_set.add(6)\n",
        "\n",
        "print(my_set)  # Output: {1, 2, 3, 4, 5, 6}\n",
        "```\n",
        "Here, adding 3 to the set does not change the set because 3 is already present. However, adding 6 successfully adds a new element to the set.\n",
        "\n",
        "#Why are Sets Useful for Removing Duplicates?\n",
        "\n",
        "- Automatic Removal of Duplicates: If you need to eliminate duplicates from a list or other iterable, you can convert it to a set, and Python will automatically handle the removal for you.\n",
        "\n",
        "#Example:\n",
        "\n",
        "```\n",
        "my_list = [1, 2, 2, 3, 4, 4, 5]\n",
        "unique_values = set(my_list)\n",
        "print(unique_values)  # Output: {1, 2, 3, 4, 5}\n",
        "```\n",
        "Efficient Lookup and Operations: Sets are optimized for fast membership testing, and their uniqueness property makes them a good choice when you need to ensure no duplicates and perform operations like union, intersection, or difference.\n",
        "\n",
        "#Summary:\n",
        "\n",
        "- Sets automatically remove duplicates by only keeping unique values.\n",
        "- Any attempt to add an element that already exists in the set will not alter the set.\n",
        "- Sets are useful when you want to ensure uniqueness of elements in your collection."
      ],
      "metadata": {
        "id": "yjH27bSBbkPP"
      },
      "execution_count": null,
      "outputs": []
    },
    {
      "cell_type": "markdown",
      "source": [
        "14. How does the “in” keyword work differently for lists and dictionaries?"
      ],
      "metadata": {
        "id": "eai43YdAcxwi"
      }
    },
    {
      "cell_type": "code",
      "source": [
        "The in keyword works differently for lists and dictionaries in Python because of the distinct ways these data structures are organized and how membership tests are performed.\n",
        "\n",
        "1. Using in with Lists\n",
        "\n",
        "When the in keyword is used with a list, it checks whether a specific value is present in the list. The operation performs a linear search through the list, meaning it checks each element to see if it matches the given value.\n",
        "\n",
        "Example:\n",
        "```\n",
        "my_list = [10, 20, 30, 40]\n",
        "\n",
        "# Check if a value exists in the list\n",
        "print(20 in my_list)  # Output: True\n",
        "print(50 in my_list)  # Output: False\n",
        "```\n",
        "In the case of lists, the in keyword checks if the value is in the list, not its index. It returns True if the value is found, and False if it is not.\n",
        "\n",
        "2. Using in with Dictionaries\n",
        "\n",
        "When the in keyword is used with a dictionary, it checks whether a key exists in the dictionary, not the value. Python performs a hash table lookup, which is much faster than the linear search used for lists, offering constant-time (O(1)) complexity for key-based membership tests.\n",
        "\n",
        "Example:\n",
        "```\n",
        "my_dict = {\"apple\": 1, \"banana\": 2, \"cherry\": 3}\n",
        "\n",
        "# Check if a key exists in the dictionary\n",
        "print(\"apple\" in my_dict)  # Output: True\n",
        "print(\"orange\" in my_dict)  # Output: False\n",
        "```\n",
        "For dictionaries, the in keyword checks if the key is in the dictionary, and not the value.\n",
        "\n",
        "3. Using in with Dictionary Values\n",
        "\n",
        "If you want to check whether a value exists in the dictionary, you need to explicitly use the .values() method to access the values of the dictionary.\n",
        "\n",
        "Example:\n",
        "```\n",
        "# Check if a value exists in the dictionary\n",
        "print(2 in my_dict.values())  # Output: True\n",
        "print(5 in my_dict.values())  # Output: False\n",
        "```\n",
        "In this case, in checks whether the value is part of the dictionary's values, rather than the keys.\n",
        "\n",
        "#Key Differences:\n",
        "Feature\t                                                                   List\t                                                                       Dictionary\n",
        "What in checks\t                                            Checks if the value is in the list.\t                                        Checks if the key is in the dictionary.\n",
        "Membership Test Type\t                                      Linear search (O(n) time complexity).\t                                     Hash table lookup (O(1) time complexity).\n",
        "Checking Values\t                                              Direct check of value presence.\t                                          Can check values with .values() method.\n",
        "\n",
        "Example\t20 in [10, 20, 30]\t\"apple\" in {\"apple\": 1, \"banana\": 2}\n",
        "\n",
        "#Summary:\n",
        "\n",
        "- For lists: in checks if a value is present in the list (using linear search).\n",
        "- For dictionaries: in checks if a key is present in the dictionary (using hash lookup). To check for values, you must use the .values() method."
      ],
      "metadata": {
        "id": "rCrhenr2dExp"
      },
      "execution_count": null,
      "outputs": []
    },
    {
      "cell_type": "markdown",
      "source": [
        " 15. Can you modify the elements of a tuple? Explain why or why not."
      ],
      "metadata": {
        "id": "G_z8b9TSegaB"
      }
    },
    {
      "cell_type": "code",
      "source": [
        "No, you cannot modify the elements of a tuple once it has been created. This is because tuples are immutable in Python.\n",
        "\n",
        "#What does \"immutable\" mean?\n",
        "\n",
        " - Immutability means that once a tuple is created, its contents cannot be changed. You cannot add, remove, or modify elements in a tuple after it has been created.\n",
        " - Any operation that appears to modify a tuple (like changing its elements) will actually create a new tuple rather than modifying the original one.\n",
        "\n",
        "#Why are tuples immutable?\n",
        "\n",
        " - Data Integrity: Immutability ensures that the data within the tuple cannot be accidentally or intentionally modified. This is useful when you want to protect the data and maintain its integrity throughout the program.\n",
        "\n",
        " - Performance: Since tuples are immutable, Python can optimize their storage and access, making them more memory-efficient and faster than mutable data types (like lists). This can lead to performance improvements, especially when dealing with large collections of data.\n",
        "\n",
        " - Hashability: Tuples are hashable, meaning they can be used as keys in dictionaries or elements in sets. This is only possible because they are immutable. If tuples were mutable, their hash values could change, leading to issues with hash-based data structures.\n",
        "\n",
        "Example:\n",
        "```\n",
        "my_tuple = (1, 2, 3)\n",
        "\n",
        "# Trying to modify an element of a tuple will result in an error\n",
        "# This will raise a TypeError\n",
        "my_tuple[0] = 10\n",
        "```\n",
        "Output:\n",
        "\n",
        "```\n",
        "TypeError: 'tuple' object does not support item assignment\n",
        "```\n",
        "#What you can do with tuples:\n",
        "\n",
        " - You can create a new tuple that combines elements from the original tuple.\n",
        " - You can access elements in the tuple using indexing, but you cannot modify them.\n",
        " - You can perform operations like slicing to get parts of the tuple, which results in a new tuple.\n",
        "\n",
        "#Example of Creating a New Tuple (Instead of Modifying):\n",
        "```\n",
        "# Original tuple\n",
        "my_tuple = (1, 2, 3)\n",
        "\n",
        "# Creating a new tuple by concatenating elements\n",
        "new_tuple = my_tuple[:2] + (4,)  # (1, 2) + (4,) => (1, 2, 4)\n",
        "print(new_tuple)  # Output: (1, 2, 4)\n",
        "```\n",
        "#Conclusion:\n",
        "\n",
        " - Tuples are immutable, so you cannot modify their elements after they are created.\n",
        " - If you need to change the contents, you should use a list instead, which is mutable."
      ],
      "metadata": {
        "id": "gM6AzatieqN4"
      },
      "execution_count": null,
      "outputs": []
    },
    {
      "cell_type": "markdown",
      "source": [
        "16. What is a nested dictionary, and give an example of its use case?"
      ],
      "metadata": {
        "id": "Qc9H8F78fke0"
      }
    },
    {
      "cell_type": "code",
      "source": [
        "#What is a Nested Dictionary?\n",
        "\n",
        "A nested dictionary is a dictionary in which the values themselves are dictionaries. Essentially, it is a dictionary of dictionaries, where each key points to another dictionary instead of a simple value like an integer, string, or list.\n",
        "\n",
        "This allows you to represent more complex, hierarchical data structures, making it easier to model data that naturally fits into nested categories or levels.\n",
        "\n",
        "#Structure of a Nested Dictionary:\n",
        "\n",
        "```\n",
        "nested_dict = {\n",
        "    \"key1\": {\"sub_key1\": value1, \"sub_key2\": value2},\n",
        "    \"key2\": {\"sub_key3\": value3, \"sub_key4\": value4},\n",
        "    # ...}\n",
        "```\n",
        "#Example of a Nested Dictionary:\n",
        "\n",
        "     - Use Case: Storing Student Information\n",
        "\n",
        "    Imagine you are building a system to manage student information, where each student has multiple attributes, such as their name, age, grades, etc. You can use a nested dictionary to store this information efficiently.\n",
        "\n",
        "```\n",
        "students = {\n",
        "    \"student1\": {\n",
        "        \"name\": \"Alice\",\n",
        "        \"age\": 20,\n",
        "        \"grades\": {\n",
        "            \"math\": 90,\n",
        "            \"science\": 88,\n",
        "            \"history\": 92\n",
        " ```\n",
        "  ```\n",
        "  \"student2\": {\n",
        "        \"name\": \"Bob\",\n",
        "        \"age\": 22,\n",
        "        \"grades\": {\n",
        "            \"math\": 85,\n",
        "            \"science\": 78,\n",
        "            \"history\": 80\n",
        "        }\n",
        "    }\n",
        "}\n",
        "```\n",
        "# Accessing nested data:\n",
        "```\n",
        "print(students[\"student1\"][\"name\"])  # Output: Alice\n",
        "print(students[\"student2\"][\"grades\"][\"math\"])  # Output: 85\n",
        "```\n",
        "#In this example:\n",
        "\n",
        "- The students dictionary contains multiple student entries (e.g., student1, student2), each with their own attributes (e.g., name, age, grades).\n",
        "- The grades themselves are stored in a nested dictionary inside each student's record, with subject names (e.g., math, science) as keys and their corresponding grades as values.\n",
        "\n",
        "- Use Case for Nested Dictionaries:\n",
        "\n",
        "- Storing hierarchical data: Nested dictionaries are useful when you need to represent data that has a multi-level structure or nested categories, such as:\n",
        "\n",
        " - Employee records with departments and roles.\n",
        " - Nested configurations/settings in a software application.\n",
        " - Multi-layered user profiles (e.g., account information, preferences, settings).\n",
        "\n",
        " - Organizing complex data: When the data has multiple attributes related to each entity, using nested dictionaries keeps the structure organized and allows you to access related data efficiently.\n",
        "\n",
        "Example\n",
        " - Use Case: Storing Employee Details\n",
        "\n",
        "        Imagine you are managing employee data where each employee has a department, job role, and salary. A nested dictionary can represent this data structure:\n",
        "\n",
        "```\n",
        "employees = {\n",
        "    \"emp001\": {\n",
        "        \"name\": \"John Doe\",\n",
        "        \"department\": \"Engineering\",\n",
        "        \"role\": \"Software Engineer\",\n",
        "        \"salary\": 95000\n",
        "    },\n",
        "    \"emp002\": {\n",
        "        \"name\": \"Jane Smith\",\n",
        "        \"department\": \"HR\",\n",
        "        \"role\": \"HR Manager\",\n",
        "        \"salary\": 85000\n",
        "    }\n",
        "}\n",
        "```\n",
        "# Accessing employee details:\n",
        "```\n",
        "print(employees[\"emp001\"][\"name\"])  # Output: John Doe\n",
        "print(employees[\"emp002\"][\"salary\"])  # Output: 85000\n",
        "```\n",
        "#In this case:\n",
        "\n",
        " - Each employee's ID (e.g., emp001) maps to a dictionary containing their personal and professional details.\n",
        " - Nested dictionaries allow you to store multiple attributes like name, department, role, and salary for each employee.\n",
        "\n",
        "#Advantages of Using Nested Dictionaries:\n",
        " - Flexibility: You can easily represent complex structures with varying levels of depth.\n",
        " - Clarity: By grouping related data together (e.g., employee details, student grades), it makes the data easier to organize and access.\n",
        " - Efficient Access: Once nested dictionaries are structured, you can easily retrieve any nested value by chaining keys together (e.g., students[\"student1\"][\"grades\"][\"math\"]).\n",
        "\n",
        "#Conclusion:\n",
        "\n",
        "A nested dictionary is a powerful way to model hierarchical data in Python. It is especially useful when you need to store data with multiple layers or attributes, such as records with various fields, configurations with subsettings, or any data structure that benefits from a multi-level representation.\n"
      ],
      "metadata": {
        "id": "GrQfAP2-f0vG"
      },
      "execution_count": null,
      "outputs": []
    },
    {
      "cell_type": "markdown",
      "source": [
        "17. Describe the time complexity of accessing elements in a dictionary."
      ],
      "metadata": {
        "id": "Ne9m_9fqh29Z"
      }
    },
    {
      "cell_type": "code",
      "source": [
        "In Python, the time complexity of accessing elements in a dictionary is typically O(1), also known as constant time. This means that, on average, retrieving a value from a dictionary using its key takes the same amount of time, regardless of the number of items in the dictionary.\n",
        "\n",
        "#Why is Dictionary Lookup O(1)?\n",
        "\n",
        "Python dictionaries are implemented using a hash table internally. When you access an element by its key, the dictionary computes a hash value for the key and uses that hash to directly access the associated value.\n",
        "\n",
        " - Hashing: The key is passed through a hash function, which converts it into an integer (hash value). This hash value determines the \"bucket\" or slot where the value is stored.\n",
        " - Direct Lookup: Once the hash value is computed, the dictionary directly accesses the appropriate slot to retrieve the value, making the lookup time very efficient.\n",
        "\n",
        " - Best-Case and Average-Case Time Complexity: O(1)\n",
        "\n",
        "In the best and average cases, Python's dictionary lookup works in constant time—this means accessing a key does not depend on the number of items in the dictionary.\n",
        "\n",
        "```\n",
        "my_dict = {\"apple\": 10, \"banana\": 20, \"cherry\": 30}\n",
        "# Accessing by key is O(1)\n",
        "value = my_dict[\"banana\"]\n",
        "print(value)  # Output: 20\n",
        "```\n",
        "Here, the dictionary uses the hash of \"banana\" to immediately find the corresponding value (20), and this process is typically very fast.\n",
        "\n",
        " - Worst-Case Time Complexity: O(n)\n",
        "\n",
        "While the average case is O(1), there can be worst-case scenarios where the time complexity can degrade to O(n). This occurs in the case of hash collisions, where multiple keys produce the same hash value and end up in the same \"bucket.\"\n",
        "\n",
        " - Collisions: In the case of a hash collision, multiple keys may be stored in the same bucket, and the dictionary needs to search through a list of elements in that bucket to find the correct one.\n",
        " - Rehashing: If the dictionary's size grows significantly, Python may perform rehashing to maintain efficient access, which can also result in temporary performance degradation.\n",
        "\n",
        "However, Python's hash table implementation is optimized to minimize collisions and rehashing, so the worst-case time complexity of O(n) is rare in practice.\n",
        "\n",
        " - Summary of Time Complexity for Dictionary Operations:\n",
        "\n",
        "- Operation\tTime Complexity\n",
        "- Accessing by key\tO(1) (average case)\n",
        "- Inserting a key-value pair\tO(1) (average case)\n",
        "- Deleting a key\tO(1) (average case)\n",
        "- Searching for a key\tO(1) (average case)\n",
        "- Worst-case (collisions)\tO(n)\n",
        "\n",
        "#Conclusion:\n",
        "\n",
        " - Average-case time complexity for accessing elements in a dictionary is O(1), which makes dictionaries very efficient for lookups.\n",
        " - The worst-case scenario (due to hash collisions) could theoretically degrade to O(n), but this is very rare due to Python's efficient hashing and collision resolution strategies.\n"
      ],
      "metadata": {
        "id": "4WbvoHt9iEtT"
      },
      "execution_count": null,
      "outputs": []
    },
    {
      "cell_type": "markdown",
      "source": [
        "18. In what situations are lists preferred over dictionaries?"
      ],
      "metadata": {
        "id": "1rbL_8ONiyCe"
      }
    },
    {
      "cell_type": "code",
      "source": [
        "While dictionaries are a powerful and efficient way to store key-value pairs, there are several situations where lists are preferred over dictionaries. Lists are more appropriate when the following conditions apply:\n",
        "\n",
        "1. When the Order of Elements is Important\n",
        "Lists maintain the order of the elements. If the order in which items are stored and accessed matters, a list is the better choice. Dictionaries in Python (prior to version 3.7) did not guarantee order, although from Python 3.7 onward, dictionaries do maintain insertion order.\n",
        "\n",
        "Use lists when the order of items matters and you need to maintain the sequence of elements (e.g., for ordered processing or iteration).\n",
        "\n",
        "#Example:\n",
        "\n",
        "```\n",
        "my_list = [\"apple\", \"banana\", \"cherry\"]\n",
        "print(my_list[1])  # Output: banana\n",
        "```\n",
        "2. When the Data is Indexed Numerically\n",
        "Lists are indexed by integers (0, 1, 2, …), making them ideal for situations where you need to access elements by their position (or index).\n",
        "\n",
        "Use lists when you need to access elements by their index, or when the data is naturally ordered in a sequence (e.g., days of the week, months of the year).\n",
        "\n",
        "#Example:\n",
        "\n",
        "```\n",
        "my_list = [10, 20, 30, 40]\n",
        "print(my_list[2])  # Output: 30\n",
        "```\n",
        "3. When You Need to Store a Homogeneous Collection\n",
        "Although Python lists can store elements of mixed types, they are typically preferred when the data is homogeneous (all elements are of the same type). Lists provide better performance and are more efficient for operations like sorting, filtering, and iterating over elements of the same type.\n",
        "\n",
        "Use lists when the data is mostly of the same type, such as a collection of numbers, strings, or other similar data types.\n",
        "\n",
        "#Example:\n",
        "\n",
        "```\n",
        "my_list = [1, 2, 3, 4, 5]\n",
        "print(sum(my_list))  # Output: 15\n",
        "```\n",
        "4. When You Need to Perform Operations Like Sorting or Slicing\n",
        "Lists come with built-in methods like sort(), reverse(), and append() that make them well-suited for tasks where you need to modify, reorder, or slice the collection.\n",
        "\n",
        "Use lists when you need to perform operations like sorting or slicing, where order and positioning are essential.\n",
        "\n",
        "#Example:\n",
        "\n",
        "```\n",
        "my_list = [5, 3, 8, 6]\n",
        "my_list.sort()  # Sorting the list in ascending order\n",
        "print(my_list)  # Output: [3, 5, 6, 8]\n",
        "```\n",
        "5. When You Don't Need Key-Value Mapping\n",
        "Lists are ideal for simple collections of data where the relationship between the elements doesn't involve a key-value mapping. If you don’t need to associate each element with a unique key, a list is simpler and more intuitive.\n",
        "\n",
        "Use lists when you just need a collection of items without the need for key-value pair mapping.\n",
        "\n",
        "#Example:\n",
        "\n",
        "```\n",
        "my_list = [\"apple\", \"banana\", \"cherry\"]\n",
        "for item in my_list:\n",
        "    print(item)  # Output: apple, banana, cherry\n",
        "```\n",
        "6. When You Need to Access Elements by Position in a Range\n",
        "When you know the position of the element you want to access within a range, lists allow for efficient access to any element via its index. If you need to access all elements in a sequence or slice a portion of the list, lists are efficient and easy to use.\n",
        "\n",
        "Use lists when you're working with a sequence of items and need to access or manipulate specific slices.\n",
        "\n",
        "Example:\n",
        "\n",
        "```\n",
        "my_list = [10, 20, 30, 40, 50]\n",
        "print(my_list[1:4])  # Output: [20, 30, 40]\n",
        "```\n",
        "7. When You Need to Iterate Over All Items\n",
        "Iterating through all elements of a list is straightforward, and lists offer fast iteration when the order of elements is important.\n",
        "\n",
        "Use lists when you need to iterate over items in sequence without the need for key-value relationships.\n",
        "\n",
        "Example:\n",
        "\n",
        "```\n",
        "my_list = [\"apple\", \"banana\", \"cherry\"]\n",
        "for fruit in my_list:\n",
        "    print(fruit)\n",
        "```\n",
        "8. When You Need to Store Simple Collections of Items\n",
        "Lists are more appropriate when the data you're working with is a simple collection of items (like a group of students, products, or books) where the association between data items doesn’t require a key-value pairing.\n",
        "\n",
        "Use lists when the data is best represented as a collection of items, not as pairs.\n",
        "\n",
        "Example:\n",
        "\n",
        "```\n",
        "fruits = [\"apple\", \"banana\", \"cherry\"]\n",
        "```\n",
        " - Summary Table: When to Use Lists vs Dictionaries\n",
        "\n",
        "Feature\t                                                                   List\t                                                        Dictionary\n",
        "Order of elements                                             \tMaintains order of insertion\t    Maintains order from Python 3.7 onwards, but primarily used for key-value mapping\n",
        "Access by index\t                                              Yes, elements are accessed by index                               \tNo, accessed by key\n",
        "Homogeneous data\t                                            Preferred for simple, homogeneous collections         \tOften used for heterogeneous, complex data\n",
        "Key-value pairing                                           \t      No, just a collection of items\t                              Yes, used for key-value pairs\n",
        "Operations like sorting or slicing                                   \tYes, efficient for sorting, slicing\t                       Limited to key-based operations\n",
        "When to use\t                                                             When order and position matter                      \tWhen mapping keys to values is required\n",
        "\n",
        "#Conclusion:\n",
        "\n",
        " - Use lists when you need to store an ordered, indexed collection of elements where the order of the elements is important, or when you are dealing with homogeneous data.\n",
        " - Use dictionaries when you need to store key-value pairs, and efficient lookups by key are important, or when you need to map unique identifiers to specific values.\n"
      ],
      "metadata": {
        "id": "_SWL7Bq8i9no"
      },
      "execution_count": null,
      "outputs": []
    },
    {
      "cell_type": "markdown",
      "source": [
        "19. Why are dictionaries considered unordered, and how does that affect data retrieval?"
      ],
      "metadata": {
        "id": "F3Exn3E_k_G7"
      }
    },
    {
      "cell_type": "code",
      "source": [
        "In earlier versions of Python (before Python 3.7), dictionaries were considered unordered collections. This meant that the order in which items were inserted into the dictionary was not guaranteed to be preserved. However, from Python 3.7 onward, dictionaries do maintain insertion order, meaning the order in which items are added to the dictionary is preserved when iterating over the dictionary.\n",
        "\n",
        "- Historical Context (Before Python 3.7):\n",
        "\n",
        "Before Python 3.7, dictionaries in Python were unordered because they were implemented using a hash table, and the internal arrangement of items was based on the hash values of the keys, not their order of insertion. This allowed for fast lookups, but there was no guarantee that the order of the elements would be the same as the order in which they were added.\n",
        "\n",
        " - For example, in earlier versions of Python:\n",
        "\n",
        "```\n",
        "my_dict = {\"a\": 1, \"b\": 2, \"c\": 3}\n",
        "for key, value in my_dict.items():\n",
        "    print(key, value)\n",
        "```\n",
        "The order in which the keys (\"a\", \"b\", \"c\") were printed could vary, depending on how the internal hash table was structured.\n",
        "\n",
        "- Change in Python 3.7+:\n",
        "\n",
        "From Python 3.7 onward, dictionaries preserve the order of insertion. This means that when you iterate over a dictionary, the keys (and values) will be returned in the order they were added. This change was made to align dictionaries with their common use cases and make them more predictable.\n",
        "\n",
        "```\n",
        "my_dict = {\"a\": 1, \"b\": 2, \"c\": 3}\n",
        "for key, value in my_dict.items():\n",
        "    print(key, value)\n",
        "```\n",
        "Output (Python 3.7+):\n",
        "\n",
        "a 1\n",
        "b 2\n",
        "c 3\n",
        "\n",
        "#Why Were Dictionaries Considered Unordered?\n",
        "Before Python 3.7, dictionaries were implemented using hash tables:\n",
        "\n",
        " - Hashing: The key-value pairs in a dictionary are stored based on the hash value of the keys. The hash function computes a fixed-size hash value for the key, and this determines where the key-value pair is stored in the table.\n",
        " - No Insertion Order: This process did not consider the order of insertion; instead, it focused on efficiently looking up key-value pairs based on the hash of the key. Hence, the internal organization of items was not predictable, and iteration order could vary.\n",
        "\n",
        "#How Does Order Affect Data Retrieval?\n",
        "\n",
        "While dictionaries in Python 3.7+ preserve order, it is important to understand how order affects data retrieval:\n",
        "\n",
        "#Data Lookup:\n",
        "\n",
        "- The primary benefit of dictionaries is fast lookups by key, regardless of the insertion order. Whether the dictionary is ordered or unordered, you can still retrieve values associated with specific keys in constant time (O(1)) due to the hash table mechanism.\n",
        "- The insertion order does not affect the speed of data retrieval. You retrieve a value by key, not by order.\n",
        "\n",
        " - Example: The order in which you insert the key-value pairs does not impact how quickly you retrieve the value.\n",
        "```\n",
        "my_dict = {\"apple\": 10, \"banana\": 20, \"cherry\": 30}\n",
        "print(my_dict[\"banana\"])  # Output: 20 (retrieval by key)\n",
        "```\n",
        "- Iteration Order:\n",
        "\n",
        "In Python 3.7+, you can iterate over the dictionary and get the items in the same order they were inserted, but this does not affect data retrieval by key. The order is important only when you care about the sequence during iteration or when the order is meaningful for the task at hand.\n",
        "\n",
        "- Example: When you iterate over a dictionary, the order of iteration is the same as the order of insertion in Python 3.7+:\n",
        "\n",
        "```\n",
        "my_dict = {\"a\": 1, \"b\": 2, \"c\": 3}\n",
        "for key, value in my_dict.items():\n",
        "    print(key, value)\n",
        "```\n",
        "# Output:\n",
        "# a 1\n",
        "# b 2\n",
        "# c 3\n",
        "Performance Considerations:\n",
        "\n",
        "Insertion and Deletion: Even though dictionaries in Python 3.7+ maintain insertion order, the underlying hash table implementation ensures that insertions and deletions are still performed efficiently in O(1) on average.\n",
        "\n",
        "However, the need to maintain the insertion order slightly increases the memory overhead, as the dictionary internally stores both the hash and the insertion order information. But this overhead is minimal and is usually not noticeable for most use cases.\n",
        "\n",
        "#Summary:\n",
        " - Before Python 3.7: Dictionaries were unordered, meaning the order of elements could change, but access by key remained O(1) due to hashing.\n",
        " - From Python 3.7 onward: Dictionaries maintain the insertion order when iterating over them, but this does not affect how you retrieve values (which remains O(1) by key).\n",
        "\n",
        " - Effect on Data Retrieval: The order of insertion has no impact on the speed of data retrieval. You still retrieve values based on their keys, and this remains fast (O(1)). The order is only significant during iteration or when the order of data matters for your use case.\n",
        "Thus, while dictionaries in Python 3.7+ are ordered in terms of insertion, order does not impact retrieval speed or efficiency, which is one of the key advantages of using dictionaries.\n"
      ],
      "metadata": {
        "id": "cEyLJkxJlJTI"
      },
      "execution_count": null,
      "outputs": []
    },
    {
      "cell_type": "markdown",
      "source": [
        " 20. Explain the difference between a list and a dictionary in terms of data retrieval."
      ],
      "metadata": {
        "id": "yvD-Frhcmdzo"
      }
    },
    {
      "cell_type": "code",
      "source": [
        "The main difference between a list and a dictionary in terms of data retrieval lies in how they store and access data, as well as the methods used for retrieving values. Here's a breakdown of these differences:\n",
        "\n",
        "1. Data Structure and Indexing\n",
        " - List: A list is an ordered collection of elements, where each element is indexed by a numerical index (starting from 0). When you want to retrieve an element from a list, you do so by its index.\n",
        "\n",
        " - Indexing: Lists use integer indices to access elements.\n",
        " - Access Time: O(1) for accessing an element by its index (direct access to a position).\n",
        "#Example:\n",
        "\n",
        "```\n",
        "my_list = [10, 20, 30, 40]\n",
        "value = my_list[2]  # Accessing the element at index 2\n",
        "print(value)  # Output: 30\n",
        "```\n",
        "In this example, the value 30 is retrieved using the index 2, and the time it takes to access the element is constant, regardless of the size of the list.\n",
        "\n",
        " - Dictionary: A dictionary is an unordered collection of key-value pairs. Each value in a dictionary is associated with a unique key. You retrieve values from a dictionary by specifying the key, not the index.\n",
        "\n",
        " - Key-based Retrieval: Dictionaries use keys (which can be any immutable type) to access values.\n",
        " - Access Time: O(1) on average for retrieving a value by its key, thanks to the underlying hash table implementation.\n",
        "#Example:\n",
        "\n",
        "```\n",
        "my_dict = {\"apple\": 10, \"banana\": 20, \"cherry\": 30}\n",
        "value = my_dict[\"banana\"]  # Accessing the value associated with the key \"banana\"\n",
        "print(value)  # Output: 20\n",
        "```\n",
        "In this example, the value 20 is retrieved using the key \"banana\", and the time it takes to access the element is constant, regardless of the size of the dictionary.\n",
        "\n",
        "2. Access Method\n",
        " - List: You access a list by its index. The index is an integer that represents the position of an element in the list.\n",
        " - Example: my_list[3] retrieves the 4th element (since indices start from 0).\n",
        " - Dictionary: You access a dictionary by its key. The key is a unique identifier associated with a value.\n",
        " - Example: my_dict[\"banana\"] retrieves the value associated with the key \"banana\".\n",
        "\n",
        "3. Order\n",
        "\n",
        " - List: Lists are ordered, meaning that the order in which elements are inserted into the list is preserved. You can access elements in the exact sequence they were added, and the index reflects their position in the order.\n",
        "\n",
        " - Access Time: O(1) for index-based retrieval, but the order is meaningful for iteration or sorting.\n",
        "\n",
        " - Dictionary: As of Python 3.7, dictionaries are ordered (i.e., they maintain the order of insertion), but they are primarily designed for key-value lookups, not for order-based access. You access the data by key, and while the insertion order is maintained, the dictionary's primary purpose is key-based retrieval.\n",
        "\n",
        " - Access Time: O(1) for key-based retrieval, but order is not the main focus.\n",
        "\n",
        "4. Retrieving by Condition\n",
        "\n",
        "- List: To retrieve an item by a condition in a list (such as finding an element based on its value), you may need to iterate over the list or use methods like index(), filter(), or a loop.\n",
        "\n",
        " - Example: If you need to find an item with a specific value in a list, you would have to search through the list, making it an O(n) operation in the worst case.\n",
        "```\n",
        "my_list = [10, 20, 30, 40]\n",
        "value = [x for x in my_list if x > 25][0]  # Finding first value greater than 25\n",
        "print(value)  # Output: 30\n",
        "```\n",
        " - Dictionary: To retrieve a value based on a condition in a dictionary, you can directly use keys or perform checks over values and keys. The retrieval is still O(1) when using the key directly.\n",
        "\n",
        "- Example: You can use dictionary comprehension or filter() to retrieve key-value pairs that meet a condition.\n",
        "```\n",
        "my_dict = {\"apple\": 10, \"banana\": 20, \"cherry\": 30}\n",
        "value = [v for k, v in my_dict.items() if v > 15][0]  # Finding first value greater than 15\n",
        "print(value)  # Output: 20\n",
        "```\n",
        "However, in cases where you don't know the key, dictionaries still require a search through keys or values, which can become O(n) in the worst case.\n",
        "\n",
        "5. Performance Considerations for Large Datasets\n",
        "\n",
        "- List: Lists are ideal for storing collections where the order of items matters, or when you frequently need to access elements by index. However, retrieving elements based on conditions or searching for an item can be slow if the list is large.\n",
        "- Example: If you need to find an element based on its value, the time complexity will be O(n) because you may need to iterate over the entire list.\n",
        "- Dictionary: Dictionaries are better when you need to frequently retrieve values using unique keys. With a dictionary, lookups are O(1) on average, making them much faster for key-based retrieval than lists for large datasets.\n",
        "\n",
        " - Summary Table: List vs Dictionary Data Retrieval\n",
        "Feature\t                                                                List\t                                                                     Dictionary\n",
        "Access Type\t                                                  Index-based (integer index)\t                                               Key-based (any immutable key)\n",
        "Time Complexity                                              (Average)\tO(1) for index-based                                           access\tO(1) for key-based access\n",
        "Order\t                                                         Preserves order of insertion\t                                            Preserves order from Python 3.7+\n",
        "Key-Based Retrieval\t                                             No (indexed by position)                                                \tYes (retrieved by unique key)\n",
        "Retrieving by Value                                             \tO(n) (need to iterate)\t                                            O(n) (if searching by value, not key)\n",
        "Performance for Large Data\t                                   Slower for searches by value (O(n))\t                                    Faster for key-based lookups (O(1))\n",
        "\n",
        "#Conclusion:\n",
        "- Lists are ideal when you need ordered collections and need to retrieve elements by index. Accessing elements by position is fast (O(1)), but if you need to search by value, it will take longer (O(n)).\n",
        "- Dictionaries are ideal when you need efficient key-based retrieval. Lookups by key are typically O(1), making dictionaries very efficient for tasks where you need fast access to data by a unique identifier. However, dictionaries are primarily designed for key-value mappings rather than ordered collections.\n"
      ],
      "metadata": {
        "id": "LpauYo2OmoSE"
      },
      "execution_count": null,
      "outputs": []
    },
    {
      "cell_type": "markdown",
      "source": [
        "**Practical questions**"
      ],
      "metadata": {
        "id": "qFqXVl0z-vkN"
      }
    },
    {
      "cell_type": "markdown",
      "source": [
        "#1.Write a code to create a string with your name and print it."
      ],
      "metadata": {
        "id": "A4Vk807G-37f"
      }
    },
    {
      "cell_type": "code",
      "source": [
        "# Create a string with my name\n",
        "name = \"Kamakshi Narang\"\n",
        "\n",
        "# Print the string\n",
        "print(name)"
      ],
      "metadata": {
        "colab": {
          "base_uri": "https://localhost:8080/"
        },
        "id": "XVqoLmLY_Aju",
        "outputId": "8c12be4a-44c1-4cd4-b74b-cb95fcf2da4a"
      },
      "execution_count": null,
      "outputs": [
        {
          "output_type": "stream",
          "name": "stdout",
          "text": [
            "Kamakshi Narang\n"
          ]
        }
      ]
    },
    {
      "cell_type": "markdown",
      "source": [
        "#2.Write a code to find the length of the string \"Hello World\"."
      ],
      "metadata": {
        "id": "C44MyjD8_azu"
      }
    },
    {
      "cell_type": "code",
      "source": [
        "# Define the string\n",
        "text = \"Hello World\"\n",
        "\n",
        "# Find the length of the string\n",
        "length = len(text)\n",
        "\n",
        "# Print the length\n",
        "print(\"The length of the string is:\", length)"
      ],
      "metadata": {
        "colab": {
          "base_uri": "https://localhost:8080/"
        },
        "id": "LAwXCwVO_nMF",
        "outputId": "823778b0-4983-4d89-9502-43d82d0e03c3"
      },
      "execution_count": null,
      "outputs": [
        {
          "output_type": "stream",
          "name": "stdout",
          "text": [
            "The length of the string is: 11\n"
          ]
        }
      ]
    },
    {
      "cell_type": "markdown",
      "source": [
        "#3.Write a code to slice the first 3 characters from the string \"Python Programming\"."
      ],
      "metadata": {
        "id": "fEcjFFFo_pYh"
      }
    },
    {
      "cell_type": "code",
      "source": [
        "# Define the string\n",
        "text = \"Python Programming\"\n",
        "\n",
        "# Slice the first 3 characters\n",
        "first_three = text[:3]\n",
        "\n",
        "# Print the result\n",
        "print(\"The first three characters are:\", first_three)"
      ],
      "metadata": {
        "colab": {
          "base_uri": "https://localhost:8080/"
        },
        "id": "3vHr227L_1jF",
        "outputId": "4bbd49dc-5fd1-4ba1-bf89-cf8cf207b205"
      },
      "execution_count": null,
      "outputs": [
        {
          "output_type": "stream",
          "name": "stdout",
          "text": [
            "The first three characters are: Pyt\n"
          ]
        }
      ]
    },
    {
      "cell_type": "markdown",
      "source": [
        "#4.Write a code to convert the string \"hello\" to uppercase."
      ],
      "metadata": {
        "id": "fCoQPQYYAB3D"
      }
    },
    {
      "cell_type": "code",
      "source": [
        "# Define the string\n",
        "text = \"hello\"\n",
        "\n",
        "# Convert the string to uppercase\n",
        "uppercase_text = text.upper()\n",
        "\n",
        "# Print the result\n",
        "print(\"The string in uppercase is:\", uppercase_text)"
      ],
      "metadata": {
        "colab": {
          "base_uri": "https://localhost:8080/"
        },
        "id": "ftK4YSdcALoZ",
        "outputId": "7d010a72-a31d-4463-81b1-d5d0742a08b8"
      },
      "execution_count": null,
      "outputs": [
        {
          "output_type": "stream",
          "name": "stdout",
          "text": [
            "The string in uppercase is: HELLO\n"
          ]
        }
      ]
    },
    {
      "cell_type": "markdown",
      "source": [
        "#5.Write a code to replace the word \"apple\" with \"orange\" in the string \"I like apple\"."
      ],
      "metadata": {
        "id": "Usk3bKJKAbfB"
      }
    },
    {
      "cell_type": "code",
      "source": [
        "# Define the string\n",
        "text = \"I like apple\"\n",
        "\n",
        "# Replace the word \"apple\" with \"orange\"\n",
        "updated_text = text.replace(\"apple\", \"orange\")\n",
        "\n",
        "# Print the updated string\n",
        "print(\"Updated string:\", updated_text)"
      ],
      "metadata": {
        "colab": {
          "base_uri": "https://localhost:8080/"
        },
        "id": "vylOzUh1Ak7O",
        "outputId": "5606dfd2-d4c6-48a3-f6fa-beb02fa1b0f0"
      },
      "execution_count": null,
      "outputs": [
        {
          "output_type": "stream",
          "name": "stdout",
          "text": [
            "Updated string: I like orange\n"
          ]
        }
      ]
    },
    {
      "cell_type": "markdown",
      "source": [
        "#6.Write a code to create a list with numbers 1 to 5 and print it."
      ],
      "metadata": {
        "id": "a2TXCx_TAtpI"
      }
    },
    {
      "cell_type": "code",
      "source": [
        "# Create a list with numbers 1 to 5\n",
        "numbers = [1, 2, 3, 4, 5]\n",
        "\n",
        "# Print the list\n",
        "print(numbers)"
      ],
      "metadata": {
        "colab": {
          "base_uri": "https://localhost:8080/"
        },
        "id": "6G6-KG89A0tG",
        "outputId": "f6b12bd6-2bf4-46a5-a48a-fd3c43383318"
      },
      "execution_count": null,
      "outputs": [
        {
          "output_type": "stream",
          "name": "stdout",
          "text": [
            "[1, 2, 3, 4, 5]\n"
          ]
        }
      ]
    },
    {
      "cell_type": "markdown",
      "source": [
        "#7.E Write a code to append the number 10 to the list [1, 2, 3, 4]."
      ],
      "metadata": {
        "id": "3hhx9CifA8uS"
      }
    },
    {
      "cell_type": "code",
      "source": [
        "# Define the list\n",
        "numbers = [1, 2, 3, 4]\n",
        "\n",
        "# Append the number 10 to the list\n",
        "numbers.append(10)\n",
        "\n",
        "# Print the updated list\n",
        "print(\"Updated list:\", numbers)"
      ],
      "metadata": {
        "colab": {
          "base_uri": "https://localhost:8080/"
        },
        "id": "hPaY_rVYBDcd",
        "outputId": "231fda1c-6adc-4e0f-f1d0-dbd17e9665ad"
      },
      "execution_count": null,
      "outputs": [
        {
          "output_type": "stream",
          "name": "stdout",
          "text": [
            "Updated list: [1, 2, 3, 4, 10]\n"
          ]
        }
      ]
    },
    {
      "cell_type": "markdown",
      "source": [
        "#8.Write a code to remove the number 3 from the list [1, 2, 3, 4, 5]."
      ],
      "metadata": {
        "id": "xmEONPySBQD3"
      }
    },
    {
      "cell_type": "code",
      "source": [
        "# Define the list\n",
        "numbers = [1, 2, 3, 4, 5]\n",
        "\n",
        "# Remove the number 3 from the list\n",
        "numbers.remove(3)\n",
        "\n",
        "# Print the updated list\n",
        "print(\"Updated list:\", numbers)"
      ],
      "metadata": {
        "colab": {
          "base_uri": "https://localhost:8080/"
        },
        "id": "XMNaR0eZBVyz",
        "outputId": "861a4822-388b-4daa-fcd6-a3a81304ef2e"
      },
      "execution_count": null,
      "outputs": [
        {
          "output_type": "stream",
          "name": "stdout",
          "text": [
            "Updated list: [1, 2, 4, 5]\n"
          ]
        }
      ]
    },
    {
      "cell_type": "markdown",
      "source": [
        "#9.E Write a code to access the second element in the list ['a', 'b', 'c', 'd']."
      ],
      "metadata": {
        "id": "rciH7fDrBc7j"
      }
    },
    {
      "cell_type": "code",
      "source": [
        "# Define the list\n",
        "letters = ['a', 'b', 'c', 'd']\n",
        "\n",
        "# Access the second element (index 1)\n",
        "second_element = letters[1]\n",
        "\n",
        "# Print the second element\n",
        "print(\"The second element is:\", second_element)"
      ],
      "metadata": {
        "colab": {
          "base_uri": "https://localhost:8080/"
        },
        "id": "jUx_nHmNBiDE",
        "outputId": "fa58c9bd-aab7-401c-b3fc-6a1364b85e82"
      },
      "execution_count": null,
      "outputs": [
        {
          "output_type": "stream",
          "name": "stdout",
          "text": [
            "The second element is: b\n"
          ]
        }
      ]
    },
    {
      "cell_type": "markdown",
      "source": [
        "#10.Write a code to reverse the list [10, 20, 30, 40, 50]."
      ],
      "metadata": {
        "id": "g9VoVTXgDrcO"
      }
    },
    {
      "cell_type": "code",
      "source": [
        "# Define the list\n",
        "numbers = [10, 20, 30, 40, 50]\n",
        "\n",
        "# Reverse the list\n",
        "numbers.reverse()\n",
        "\n",
        "# Print the reversed list\n",
        "print(\"Reversed list:\", numbers)"
      ],
      "metadata": {
        "colab": {
          "base_uri": "https://localhost:8080/"
        },
        "id": "zXFCBi71Dxa9",
        "outputId": "f86adff5-4d5b-421d-b6d4-9a09b587f200"
      },
      "execution_count": null,
      "outputs": [
        {
          "output_type": "stream",
          "name": "stdout",
          "text": [
            "Reversed list: [50, 40, 30, 20, 10]\n"
          ]
        }
      ]
    },
    {
      "cell_type": "markdown",
      "source": [
        "#11.Write a code to create a tuple with the elements 10, 20, 30 and print it."
      ],
      "metadata": {
        "id": "n3HEPDzrD8-o"
      }
    },
    {
      "cell_type": "code",
      "source": [
        "# Create a tuple with the elements 10, 20, 30\n",
        "my_tuple = (10, 20, 30)\n",
        "\n",
        "# Print the tuple\n",
        "print(\"The tuple is:\", my_tuple)"
      ],
      "metadata": {
        "colab": {
          "base_uri": "https://localhost:8080/"
        },
        "id": "Hd3vIewiEEec",
        "outputId": "097040f3-f3f3-4623-ae00-96781f119006"
      },
      "execution_count": null,
      "outputs": [
        {
          "output_type": "stream",
          "name": "stdout",
          "text": [
            "The tuple is: (10, 20, 30)\n"
          ]
        }
      ]
    },
    {
      "cell_type": "markdown",
      "source": [
        "#12. Write a code to access the first element of the tuple ('apple', 'banana', 'cherry')."
      ],
      "metadata": {
        "id": "FtKbY7XpEKFC"
      }
    },
    {
      "cell_type": "code",
      "source": [
        "# Create a tuple with the elements 10, 20, 30\n",
        "my_tuple = (10, 20, 30)\n",
        "\n",
        "# Print the tuple\n",
        "print(\"The tuple is:\", my_tuple)"
      ],
      "metadata": {
        "colab": {
          "base_uri": "https://localhost:8080/"
        },
        "id": "zA4U435UEPlk",
        "outputId": "12e3da8f-43ca-4461-c2f4-16500e1023f0"
      },
      "execution_count": null,
      "outputs": [
        {
          "output_type": "stream",
          "name": "stdout",
          "text": [
            "The tuple is: (10, 20, 30)\n"
          ]
        }
      ]
    },
    {
      "cell_type": "markdown",
      "source": [
        "#13. Write a code to count how many times the number 2 appears in the tuple (1, 2, 3, 2, 4, 2).\n",
        "\n"
      ],
      "metadata": {
        "id": "6GYt83KSEWgJ"
      }
    },
    {
      "cell_type": "code",
      "source": [
        "# Define the tuple\n",
        "numbers = (1, 2, 3, 2, 4, 2)\n",
        "\n",
        "# Count how many times the number 2 appears\n",
        "count_of_2 = numbers.count(2)\n",
        "\n",
        "# Print the result\n",
        "print(\"The number 2 appears\", count_of_2, \"times in the tuple.\")"
      ],
      "metadata": {
        "colab": {
          "base_uri": "https://localhost:8080/"
        },
        "id": "n3OjoLGzEeyd",
        "outputId": "f8ff58e7-6b7e-44c9-b1dd-972d2f7f6193"
      },
      "execution_count": null,
      "outputs": [
        {
          "output_type": "stream",
          "name": "stdout",
          "text": [
            "The number 2 appears 3 times in the tuple.\n"
          ]
        }
      ]
    },
    {
      "cell_type": "markdown",
      "source": [
        "#14. Write a code to find the index of the element \"cat\" in the tuple ('dog', 'cat', 'rabbit')."
      ],
      "metadata": {
        "id": "ljEW3hYcE9Sn"
      }
    },
    {
      "cell_type": "code",
      "source": [
        "# Define the tuple\n",
        "animals = ('dog', 'cat', 'rabbit')\n",
        "\n",
        "# Find the index of the element \"cat\"\n",
        "index_of_cat = animals.index('cat')\n",
        "\n",
        "# Print the result\n",
        "print(\"The index of 'cat' is:\", index_of_cat)"
      ],
      "metadata": {
        "colab": {
          "base_uri": "https://localhost:8080/"
        },
        "id": "QGwkpBM8FIRS",
        "outputId": "ab70ee5b-9828-496e-eae9-24365127d05b"
      },
      "execution_count": null,
      "outputs": [
        {
          "output_type": "stream",
          "name": "stdout",
          "text": [
            "The index of 'cat' is: 1\n"
          ]
        }
      ]
    },
    {
      "cell_type": "markdown",
      "source": [
        "#15. Write a code to check if the element \"banana\" is in the tuple ('apple', 'orange', 'banana')."
      ],
      "metadata": {
        "id": "VraDaha_FS2r"
      }
    },
    {
      "cell_type": "code",
      "source": [
        "# Define the tuple\n",
        "fruits = ('apple', 'orange', 'banana')\n",
        "\n",
        "# Check if \"banana\" is in the tuple\n",
        "if 'banana' in fruits:\n",
        "    print(\"Banana is in the tuple.\")\n",
        "else:\n",
        "    print(\"Banana is not in the tuple.\")"
      ],
      "metadata": {
        "colab": {
          "base_uri": "https://localhost:8080/"
        },
        "id": "-fC4o_frF4p1",
        "outputId": "d7e55413-4890-41a9-e011-81253b9c1ffd"
      },
      "execution_count": null,
      "outputs": [
        {
          "output_type": "stream",
          "name": "stdout",
          "text": [
            "Banana is in the tuple.\n"
          ]
        }
      ]
    },
    {
      "cell_type": "markdown",
      "source": [
        "#16Write a code to create a set with the elements 1, 2, 3, 4, 5 and print it."
      ],
      "metadata": {
        "id": "Kf8y9S_ZGDpJ"
      }
    },
    {
      "cell_type": "code",
      "source": [
        "# Create a set with the elements 1, 2, 3, 4, 5\n",
        "my_set = {1, 2, 3, 4, 5}\n",
        "\n",
        "# Print the set\n",
        "print(\"The set is:\", my_set)"
      ],
      "metadata": {
        "colab": {
          "base_uri": "https://localhost:8080/"
        },
        "id": "etdkqYVAGL7t",
        "outputId": "0e71aed4-099d-4fa2-caab-61cf1f1148fc"
      },
      "execution_count": null,
      "outputs": [
        {
          "output_type": "stream",
          "name": "stdout",
          "text": [
            "The set is: {1, 2, 3, 4, 5}\n"
          ]
        }
      ]
    },
    {
      "cell_type": "markdown",
      "source": [],
      "metadata": {
        "id": "F934hcJAGWf7"
      }
    },
    {
      "cell_type": "code",
      "source": [
        "# Define the set\n",
        "my_set = {1, 2, 3, 4}\n",
        "\n",
        "# Add the element 6 to the set\n",
        "my_set.add(6)\n",
        "\n",
        "# Print the updated set\n",
        "print(\"Updated set:\", my_set)"
      ],
      "metadata": {
        "colab": {
          "base_uri": "https://localhost:8080/"
        },
        "id": "bPGXQxGfGZ0y",
        "outputId": "7498956b-7dad-41ab-a291-fd6c4cca67db"
      },
      "execution_count": null,
      "outputs": [
        {
          "output_type": "stream",
          "name": "stdout",
          "text": [
            "Updated set: {1, 2, 3, 4, 6}\n"
          ]
        }
      ]
    },
    {
      "cell_type": "markdown",
      "source": [
        "#17.Write a code to add the element 6 to the set {1, 2, 3, 4}."
      ],
      "metadata": {
        "id": "gC-ce61aGnOg"
      }
    },
    {
      "cell_type": "code",
      "source": [
        "# Define the set\n",
        "my_set = {1, 2, 3, 4}\n",
        "\n",
        "# Add the element 6 to the set\n",
        "my_set.add(6)\n",
        "\n",
        "# Print the updated set\n",
        "print(\"Updated set:\", my_set)"
      ],
      "metadata": {
        "colab": {
          "base_uri": "https://localhost:8080/"
        },
        "id": "oaTxjzjYGsEP",
        "outputId": "514b7100-2537-4847-f225-ca94bce3b7da"
      },
      "execution_count": null,
      "outputs": [
        {
          "output_type": "stream",
          "name": "stdout",
          "text": [
            "Updated set: {1, 2, 3, 4, 6}\n"
          ]
        }
      ]
    },
    {
      "cell_type": "markdown",
      "source": [
        "#18.Write a code to create a tuple with the elements 10, 20, 30 and print it."
      ],
      "metadata": {
        "id": "EqcV5baWGyag"
      }
    },
    {
      "cell_type": "code",
      "source": [
        "# Create a tuple with the elements 10, 20, 30\n",
        "my_tuple = (10, 20, 30)\n",
        "\n",
        "# Print the tuple\n",
        "print(\"The tuple is:\", my_tuple)\n"
      ],
      "metadata": {
        "colab": {
          "base_uri": "https://localhost:8080/"
        },
        "id": "SRNExEknG40J",
        "outputId": "c0fe684e-b722-4709-959a-f4eb467f784f"
      },
      "execution_count": null,
      "outputs": [
        {
          "output_type": "stream",
          "name": "stdout",
          "text": [
            "The tuple is: (10, 20, 30)\n"
          ]
        }
      ]
    },
    {
      "cell_type": "markdown",
      "source": [],
      "metadata": {
        "id": "HJ1kmpWlGnLX"
      }
    },
    {
      "cell_type": "markdown",
      "source": [
        "#19.Write a code to access the first element of the tuple ('apple', 'banana', 'cherry')."
      ],
      "metadata": {
        "id": "Ik3WNLwtHAf1"
      }
    },
    {
      "cell_type": "code",
      "source": [
        "# Define the tuple\n",
        "fruits = ('apple', 'banana', 'cherry')\n",
        "\n",
        "# Access the first element\n",
        "first_element = fruits[0]\n",
        "\n",
        "# Print the first element\n",
        "print(\"The first element is:\", first_element)"
      ],
      "metadata": {
        "colab": {
          "base_uri": "https://localhost:8080/"
        },
        "id": "SJKKpW_9H6wE",
        "outputId": "5e4bacdb-57c5-4218-f8b5-7e02c4ea7c43"
      },
      "execution_count": null,
      "outputs": [
        {
          "output_type": "stream",
          "name": "stdout",
          "text": [
            "The first element is: apple\n"
          ]
        }
      ]
    },
    {
      "cell_type": "markdown",
      "source": [
        "#20. Write a code to count how many times the number 2 appears in the tuple (1, 2, 3, 2, 4, 2)."
      ],
      "metadata": {
        "id": "19383TQ1IAmu"
      }
    },
    {
      "cell_type": "code",
      "source": [
        "# Define the tuple\n",
        "numbers = (1, 2, 3, 2, 4, 2)\n",
        "\n",
        "# Count how many times the number 2 appears\n",
        "count_of_2 = numbers.count(2)\n",
        "\n",
        "# Print the result\n",
        "print(\"The number 2 appears\", count_of_2, \"times in the tuple.\")"
      ],
      "metadata": {
        "colab": {
          "base_uri": "https://localhost:8080/"
        },
        "id": "2QfDu75EIIlh",
        "outputId": "8f482103-4054-425d-d1ec-2c495aed2b09"
      },
      "execution_count": null,
      "outputs": [
        {
          "output_type": "stream",
          "name": "stdout",
          "text": [
            "The number 2 appears 3 times in the tuple.\n"
          ]
        }
      ]
    },
    {
      "cell_type": "markdown",
      "source": [
        "#21.Write a code to find the index of the element \"cat\" in the tuple ('dog', 'cat', 'rabbit')."
      ],
      "metadata": {
        "id": "OkJ0HIVDIVao"
      }
    },
    {
      "cell_type": "code",
      "source": [
        "# Define the tuple\n",
        "animals = ('dog', 'cat', 'rabbit')\n",
        "\n",
        "# Find the index of the element \"cat\"\n",
        "index_of_cat = animals.index('cat')\n",
        "\n",
        "# Print the result\n",
        "print(\"The index of 'cat' is:\", index_of_cat)"
      ],
      "metadata": {
        "colab": {
          "base_uri": "https://localhost:8080/"
        },
        "id": "3T-VetMDIg1h",
        "outputId": "05286659-0187-4293-efdb-ba20fd191e75"
      },
      "execution_count": null,
      "outputs": [
        {
          "output_type": "stream",
          "name": "stdout",
          "text": [
            "The index of 'cat' is: 1\n"
          ]
        }
      ]
    },
    {
      "cell_type": "markdown",
      "source": [
        "#22.Write a code to check if the element \"banana\" is in the tuple ('apple', 'orange', 'banana')."
      ],
      "metadata": {
        "id": "5qtAleEFImG-"
      }
    },
    {
      "cell_type": "code",
      "source": [
        "# Define the tuple\n",
        "fruits = ('apple', 'orange', 'banana')\n",
        "\n",
        "# Check if \"banana\" is in the tuple\n",
        "if 'banana' in fruits:\n",
        "    print(\"Banana is in the tuple.\")\n",
        "else:\n",
        "    print(\"Banana is not in the tuple.\")\n"
      ],
      "metadata": {
        "colab": {
          "base_uri": "https://localhost:8080/"
        },
        "id": "8MVE2BpiIrIL",
        "outputId": "7a3d0c92-d066-48bf-9555-51323fc3c7f3"
      },
      "execution_count": null,
      "outputs": [
        {
          "output_type": "stream",
          "name": "stdout",
          "text": [
            "Banana is in the tuple.\n"
          ]
        }
      ]
    },
    {
      "cell_type": "markdown",
      "source": [
        "#23. Write a code to create a set with the elements 1, 2, 3, 4, 5 and print it."
      ],
      "metadata": {
        "id": "sYtC5FQuIxsy"
      }
    },
    {
      "cell_type": "code",
      "source": [
        "# Create a set with the elements 1, 2, 3, 4, 5\n",
        "my_set = {1, 2, 3, 4, 5}\n",
        "\n",
        "# Print the set\n",
        "print(\"The set is:\", my_set)"
      ],
      "metadata": {
        "colab": {
          "base_uri": "https://localhost:8080/"
        },
        "id": "K6ubjQP7I30Q",
        "outputId": "be0e8f68-5993-4367-c530-62184eb71aa4"
      },
      "execution_count": null,
      "outputs": [
        {
          "output_type": "stream",
          "name": "stdout",
          "text": [
            "The set is: {1, 2, 3, 4, 5}\n"
          ]
        }
      ]
    },
    {
      "cell_type": "markdown",
      "source": [
        "#24.Write a code to add the element 6 to the set {1, 2, 3, 4}."
      ],
      "metadata": {
        "id": "-Tiav5ckI9re"
      }
    },
    {
      "cell_type": "code",
      "source": [
        "# Define the set\n",
        "my_set = {1, 2, 3, 4}\n",
        "\n",
        "# Add the element 6 to the set\n",
        "my_set.add(6)\n",
        "\n",
        "# Print the updated set\n",
        "print(\"Updated set:\", my_set)"
      ],
      "metadata": {
        "colab": {
          "base_uri": "https://localhost:8080/"
        },
        "id": "vGA3Tj5GJCTO",
        "outputId": "2247b8ef-9e1a-4954-c1d8-49f99c9207a3"
      },
      "execution_count": null,
      "outputs": [
        {
          "output_type": "stream",
          "name": "stdout",
          "text": [
            "Updated set: {1, 2, 3, 4, 6}\n"
          ]
        }
      ]
    }
  ]
}